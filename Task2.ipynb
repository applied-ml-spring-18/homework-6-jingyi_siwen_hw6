{
 "cells": [
  {
   "cell_type": "code",
   "execution_count": 2,
   "metadata": {},
   "outputs": [
    {
     "name": "stderr",
     "output_type": "stream",
     "text": [
      "Using TensorFlow backend.\n",
      "/Users/Selina/anaconda/envs/python3/lib/python3.5/importlib/_bootstrap.py:222: RuntimeWarning: compiletime version 3.6 of module 'tensorflow.python.framework.fast_tensor_util' does not match runtime version 3.5\n",
      "  return f(*args, **kwds)\n"
     ]
    }
   ],
   "source": [
    "from keras.datasets import mnist\n",
    "import keras\n",
    "(X_train, y_train), (X_test, y_test) = mnist.load_data()"
   ]
  },
  {
   "cell_type": "markdown",
   "metadata": {},
   "source": [
    "## 1. Preprocess"
   ]
  },
  {
   "cell_type": "code",
   "execution_count": 3,
   "metadata": {},
   "outputs": [],
   "source": [
    "import numpy as np\n",
    "import matplotlib"
   ]
  },
  {
   "cell_type": "code",
   "execution_count": 4,
   "metadata": {},
   "outputs": [
    {
     "name": "stdout",
     "output_type": "stream",
     "text": [
      "60000 train samples\n",
      "10000 test samples\n"
     ]
    }
   ],
   "source": [
    "X_train = X_train.reshape(60000, 784)\n",
    "X_test = X_test.reshape(10000, 784)\n",
    "X_train = X_train.astype('float32')\n",
    "X_test = X_test.astype('float32')\n",
    "X_train /= 255\n",
    "X_test /= 255\n",
    "print(X_train.shape[0], 'train samples')\n",
    "print(X_test.shape[0], 'test samples')\n",
    "\n",
    "num_classes = 10\n",
    "# convert class vectors to binary class matrices\n",
    "y_train = keras.utils.to_categorical(y_train, num_classes)\n",
    "y_test = keras.utils.to_categorical(y_test, num_classes)"
   ]
  },
  {
   "cell_type": "code",
   "execution_count": 5,
   "metadata": {},
   "outputs": [
    {
     "name": "stdout",
     "output_type": "stream",
     "text": [
      "(50000, 784) train samples\n",
      "(10000, 784) test samples\n"
     ]
    }
   ],
   "source": [
    "from sklearn.model_selection import train_test_split\n",
    "X_train, X_val, y_train, y_val = train_test_split(X_train, y_train, test_size = 1/6, stratify=y_train, random_state=0)\n",
    "print(X_train.shape, 'train samples')\n",
    "print(X_val.shape, 'test samples')"
   ]
  },
  {
   "cell_type": "code",
   "execution_count": 6,
   "metadata": {},
   "outputs": [
    {
     "name": "stderr",
     "output_type": "stream",
     "text": [
      "/Users/Selina/anaconda/envs/python3/lib/python3.5/site-packages/sklearn/cross_validation.py:41: DeprecationWarning: This module was deprecated in version 0.18 in favor of the model_selection module into which all the refactored classes and functions are moved. Also note that the interface of the new CV iterators are different from that of this module. This module will be removed in 0.20.\n",
      "  \"This module will be removed in 0.20.\", DeprecationWarning)\n",
      "/Users/Selina/anaconda/envs/python3/lib/python3.5/site-packages/sklearn/grid_search.py:42: DeprecationWarning: This module was deprecated in version 0.18 in favor of the model_selection module into which all the refactored classes and functions are moved. This module will be removed in 0.20.\n",
      "  DeprecationWarning)\n"
     ]
    }
   ],
   "source": [
    "from keras.models import Sequential\n",
    "from keras.layers import Dense, Activation\n",
    "from keras.wrappers.scikit_learn import KerasClassifier, KerasRegressor\n",
    "from sklearn.grid_search import GridSearchCV"
   ]
  },
  {
   "cell_type": "markdown",
   "metadata": {},
   "source": [
    "## Vinalla"
   ]
  },
  {
   "cell_type": "code",
   "execution_count": 49,
   "metadata": {},
   "outputs": [
    {
     "name": "stdout",
     "output_type": "stream",
     "text": [
      "Train on 50000 samples, validate on 10000 samples\n",
      "Epoch 1/60\n",
      "50000/50000 [==============================] - 4s 72us/step - loss: 0.5308 - acc: 0.8517 - val_loss: 0.2722 - val_acc: 0.9235\n",
      "Epoch 2/60\n",
      "50000/50000 [==============================] - 2s 35us/step - loss: 0.2393 - acc: 0.9310 - val_loss: 0.2158 - val_acc: 0.9410\n",
      "Epoch 3/60\n",
      "50000/50000 [==============================] - 2s 36us/step - loss: 0.1939 - acc: 0.9444 - val_loss: 0.1887 - val_acc: 0.9463\n",
      "Epoch 4/60\n",
      "50000/50000 [==============================] - 2s 39us/step - loss: 0.1670 - acc: 0.9508 - val_loss: 0.1766 - val_acc: 0.9518\n",
      "Epoch 5/60\n",
      "50000/50000 [==============================] - 2s 39us/step - loss: 0.1487 - acc: 0.9569 - val_loss: 0.1632 - val_acc: 0.9527\n",
      "Epoch 6/60\n",
      "50000/50000 [==============================] - 2s 41us/step - loss: 0.1350 - acc: 0.9597 - val_loss: 0.1523 - val_acc: 0.9560\n",
      "Epoch 7/60\n",
      "50000/50000 [==============================] - 2s 39us/step - loss: 0.1228 - acc: 0.9637 - val_loss: 0.1466 - val_acc: 0.9595\n",
      "Epoch 8/60\n",
      "50000/50000 [==============================] - 2s 40us/step - loss: 0.1132 - acc: 0.9663 - val_loss: 0.1384 - val_acc: 0.9602\n",
      "Epoch 9/60\n",
      "50000/50000 [==============================] - 2s 40us/step - loss: 0.1053 - acc: 0.9689 - val_loss: 0.1430 - val_acc: 0.9603\n",
      "Epoch 10/60\n",
      "50000/50000 [==============================] - 2s 39us/step - loss: 0.0951 - acc: 0.9713 - val_loss: 0.1290 - val_acc: 0.9644\n",
      "Epoch 11/60\n",
      "50000/50000 [==============================] - 2s 37us/step - loss: 0.0883 - acc: 0.9736 - val_loss: 0.1217 - val_acc: 0.9651\n",
      "Epoch 12/60\n",
      "50000/50000 [==============================] - 2s 36us/step - loss: 0.0827 - acc: 0.9748 - val_loss: 0.1238 - val_acc: 0.9659\n",
      "Epoch 13/60\n",
      "50000/50000 [==============================] - 2s 38us/step - loss: 0.0765 - acc: 0.9768 - val_loss: 0.1215 - val_acc: 0.9669\n",
      "Epoch 14/60\n",
      "50000/50000 [==============================] - 2s 38us/step - loss: 0.0708 - acc: 0.9788 - val_loss: 0.1179 - val_acc: 0.9674\n",
      "Epoch 15/60\n",
      "50000/50000 [==============================] - 2s 38us/step - loss: 0.0671 - acc: 0.9799 - val_loss: 0.1224 - val_acc: 0.9667\n",
      "Epoch 16/60\n",
      "50000/50000 [==============================] - 2s 37us/step - loss: 0.0630 - acc: 0.9807 - val_loss: 0.1202 - val_acc: 0.9666\n",
      "Epoch 17/60\n",
      "50000/50000 [==============================] - 2s 38us/step - loss: 0.0591 - acc: 0.9822 - val_loss: 0.1222 - val_acc: 0.9669\n",
      "Epoch 18/60\n",
      "50000/50000 [==============================] - 2s 46us/step - loss: 0.0560 - acc: 0.9829 - val_loss: 0.1181 - val_acc: 0.9677\n",
      "Epoch 19/60\n",
      "50000/50000 [==============================] - 2s 40us/step - loss: 0.0519 - acc: 0.9846 - val_loss: 0.1153 - val_acc: 0.9688\n",
      "Epoch 20/60\n",
      "50000/50000 [==============================] - 2s 38us/step - loss: 0.0497 - acc: 0.9845 - val_loss: 0.1178 - val_acc: 0.9690\n",
      "Epoch 21/60\n",
      "50000/50000 [==============================] - 2s 37us/step - loss: 0.0462 - acc: 0.9856 - val_loss: 0.1213 - val_acc: 0.9676\n",
      "Epoch 22/60\n",
      "50000/50000 [==============================] - 2s 39us/step - loss: 0.0450 - acc: 0.9860 - val_loss: 0.1198 - val_acc: 0.9690\n",
      "Epoch 23/60\n",
      "50000/50000 [==============================] - 2s 42us/step - loss: 0.0407 - acc: 0.9877 - val_loss: 0.1225 - val_acc: 0.9707\n",
      "Epoch 24/60\n",
      "50000/50000 [==============================] - 2s 40us/step - loss: 0.0399 - acc: 0.9882 - val_loss: 0.1363 - val_acc: 0.9658\n",
      "Epoch 25/60\n",
      "50000/50000 [==============================] - 2s 41us/step - loss: 0.0379 - acc: 0.9884 - val_loss: 0.1257 - val_acc: 0.9681\n",
      "Epoch 26/60\n",
      "50000/50000 [==============================] - 2s 39us/step - loss: 0.0348 - acc: 0.9892 - val_loss: 0.1240 - val_acc: 0.9698\n",
      "Epoch 27/60\n",
      "50000/50000 [==============================] - 2s 39us/step - loss: 0.0315 - acc: 0.9906 - val_loss: 0.1230 - val_acc: 0.9696\n",
      "Epoch 28/60\n",
      "50000/50000 [==============================] - 2s 45us/step - loss: 0.0313 - acc: 0.9910 - val_loss: 0.1278 - val_acc: 0.9690\n",
      "Epoch 29/60\n",
      "50000/50000 [==============================] - 2s 39us/step - loss: 0.0298 - acc: 0.9911 - val_loss: 0.1269 - val_acc: 0.9698\n",
      "Epoch 30/60\n",
      "50000/50000 [==============================] - 2s 38us/step - loss: 0.0268 - acc: 0.9919 - val_loss: 0.1330 - val_acc: 0.9679\n",
      "Epoch 31/60\n",
      "50000/50000 [==============================] - 2s 38us/step - loss: 0.0254 - acc: 0.9927 - val_loss: 0.1292 - val_acc: 0.9710\n",
      "Epoch 32/60\n",
      "50000/50000 [==============================] - 2s 41us/step - loss: 0.0261 - acc: 0.9919 - val_loss: 0.1344 - val_acc: 0.9692\n",
      "Epoch 33/60\n",
      "50000/50000 [==============================] - 2s 41us/step - loss: 0.0252 - acc: 0.9922 - val_loss: 0.1350 - val_acc: 0.9698\n",
      "Epoch 34/60\n",
      "50000/50000 [==============================] - 2s 41us/step - loss: 0.0209 - acc: 0.9941 - val_loss: 0.1327 - val_acc: 0.9694\n",
      "Epoch 35/60\n",
      "50000/50000 [==============================] - 2s 40us/step - loss: 0.0206 - acc: 0.9939 - val_loss: 0.1368 - val_acc: 0.9688\n",
      "Epoch 36/60\n",
      "50000/50000 [==============================] - 2s 42us/step - loss: 0.0182 - acc: 0.9952 - val_loss: 0.1441 - val_acc: 0.9680\n",
      "Epoch 37/60\n",
      "50000/50000 [==============================] - 2s 41us/step - loss: 0.0189 - acc: 0.9945 - val_loss: 0.1588 - val_acc: 0.9631\n",
      "Epoch 38/60\n",
      "50000/50000 [==============================] - 2s 39us/step - loss: 0.0184 - acc: 0.9944 - val_loss: 0.1450 - val_acc: 0.9687\n",
      "Epoch 39/60\n",
      "50000/50000 [==============================] - 2s 42us/step - loss: 0.0156 - acc: 0.9957 - val_loss: 0.1440 - val_acc: 0.9688\n",
      "Epoch 40/60\n",
      "50000/50000 [==============================] - 2s 48us/step - loss: 0.0155 - acc: 0.9958 - val_loss: 0.1528 - val_acc: 0.9668\n",
      "Epoch 41/60\n",
      "50000/50000 [==============================] - 2s 37us/step - loss: 0.0149 - acc: 0.9958 - val_loss: 0.1574 - val_acc: 0.9666\n",
      "Epoch 42/60\n",
      "50000/50000 [==============================] - 2s 42us/step - loss: 0.0143 - acc: 0.9957 - val_loss: 0.1568 - val_acc: 0.9656\n",
      "Epoch 43/60\n",
      "50000/50000 [==============================] - 2s 38us/step - loss: 0.0134 - acc: 0.9965 - val_loss: 0.1464 - val_acc: 0.9693\n",
      "Epoch 44/60\n",
      "50000/50000 [==============================] - 2s 38us/step - loss: 0.0127 - acc: 0.9967 - val_loss: 0.1602 - val_acc: 0.9663\n",
      "Epoch 45/60\n",
      "50000/50000 [==============================] - 2s 38us/step - loss: 0.0139 - acc: 0.9959 - val_loss: 0.1620 - val_acc: 0.9674\n",
      "Epoch 46/60\n",
      "50000/50000 [==============================] - 2s 39us/step - loss: 0.0108 - acc: 0.9971 - val_loss: 0.1602 - val_acc: 0.9691\n",
      "Epoch 47/60\n",
      "50000/50000 [==============================] - 2s 45us/step - loss: 0.0095 - acc: 0.9976 - val_loss: 0.1642 - val_acc: 0.9673\n",
      "Epoch 48/60\n",
      "50000/50000 [==============================] - 2s 40us/step - loss: 0.0098 - acc: 0.9974 - val_loss: 0.1689 - val_acc: 0.9682\n",
      "Epoch 49/60\n",
      "50000/50000 [==============================] - 2s 40us/step - loss: 0.0133 - acc: 0.9960 - val_loss: 0.1716 - val_acc: 0.9664\n",
      "Epoch 50/60\n",
      "50000/50000 [==============================] - 2s 44us/step - loss: 0.0085 - acc: 0.9978 - val_loss: 0.1730 - val_acc: 0.9669\n",
      "Epoch 51/60\n",
      "50000/50000 [==============================] - 2s 43us/step - loss: 0.0077 - acc: 0.9981 - val_loss: 0.1753 - val_acc: 0.9668\n",
      "Epoch 52/60\n",
      "50000/50000 [==============================] - 2s 37us/step - loss: 0.0091 - acc: 0.9973 - val_loss: 0.1737 - val_acc: 0.9654\n",
      "Epoch 53/60\n",
      "50000/50000 [==============================] - 2s 38us/step - loss: 0.0096 - acc: 0.9974 - val_loss: 0.1783 - val_acc: 0.9655\n",
      "Epoch 54/60\n",
      "50000/50000 [==============================] - 2s 41us/step - loss: 0.0114 - acc: 0.9963 - val_loss: 0.1762 - val_acc: 0.9669\n",
      "Epoch 55/60\n",
      "50000/50000 [==============================] - 2s 43us/step - loss: 0.0068 - acc: 0.9982 - val_loss: 0.1765 - val_acc: 0.9663\n",
      "Epoch 56/60\n",
      "50000/50000 [==============================] - 2s 39us/step - loss: 0.0050 - acc: 0.9989 - val_loss: 0.1785 - val_acc: 0.9681\n",
      "Epoch 57/60\n",
      "50000/50000 [==============================] - 2s 38us/step - loss: 0.0082 - acc: 0.9977 - val_loss: 0.1824 - val_acc: 0.9668\n",
      "Epoch 58/60\n",
      "50000/50000 [==============================] - 2s 38us/step - loss: 0.0070 - acc: 0.9982 - val_loss: 0.1878 - val_acc: 0.9665\n",
      "Epoch 59/60\n",
      "50000/50000 [==============================] - 2s 37us/step - loss: 0.0083 - acc: 0.9977 - val_loss: 0.1960 - val_acc: 0.9652\n",
      "Epoch 60/60\n"
     ]
    },
    {
     "name": "stdout",
     "output_type": "stream",
     "text": [
      "50000/50000 [==============================] - 2s 36us/step - loss: 0.0079 - acc: 0.9974 - val_loss: 0.1904 - val_acc: 0.9670\n"
     ]
    }
   ],
   "source": [
    "#### Best Vinalla ###\n",
    "model = Sequential([\n",
    "            Dense(32,input_shape=(784,)),\n",
    "            Activation('relu'),\n",
    "            Dense(32),\n",
    "            Activation('relu'),\n",
    "            Dense(10),\n",
    "            Activation('softmax')])\n",
    "model.compile(optimizer = 'adam', loss=\"categorical_crossentropy\",metrics = ['accuracy'])\n",
    "history_callback = model.fit(X_train, y_train, batch_size=128,\n",
    "                             epochs=60, verbose=1, validation_data=(X_val,y_val))"
   ]
  },
  {
   "cell_type": "code",
   "execution_count": 55,
   "metadata": {},
   "outputs": [
    {
     "name": "stdout",
     "output_type": "stream",
     "text": [
      "loss function on validation set: 0.19038974158683997\n",
      "accuracy function on validation set: 0.967\n"
     ]
    }
   ],
   "source": [
    "score = model.evaluate(X_val, y_val, verbose=0)\n",
    "print(\"loss function on validation set: {}\".format(score[0]))\n",
    "print(\"accuracy function on validation set: {}\".format(score[1]))"
   ]
  },
  {
   "cell_type": "code",
   "execution_count": 51,
   "metadata": {},
   "outputs": [
    {
     "name": "stdout",
     "output_type": "stream",
     "text": [
      "_________________________________________________________________\n",
      "Layer (type)                 Output Shape              Param #   \n",
      "=================================================================\n",
      "dense_115 (Dense)            (None, 32)                25120     \n",
      "_________________________________________________________________\n",
      "activation_115 (Activation)  (None, 32)                0         \n",
      "_________________________________________________________________\n",
      "dense_116 (Dense)            (None, 32)                1056      \n",
      "_________________________________________________________________\n",
      "activation_116 (Activation)  (None, 32)                0         \n",
      "_________________________________________________________________\n",
      "dense_117 (Dense)            (None, 10)                330       \n",
      "_________________________________________________________________\n",
      "activation_117 (Activation)  (None, 10)                0         \n",
      "=================================================================\n",
      "Total params: 26,506\n",
      "Trainable params: 26,506\n",
      "Non-trainable params: 0\n",
      "_________________________________________________________________\n"
     ]
    }
   ],
   "source": [
    "model.summary()"
   ]
  },
  {
   "cell_type": "code",
   "execution_count": 52,
   "metadata": {},
   "outputs": [
    {
     "data": {
      "text/plain": [
       "Text(0,0.5,'loss')"
      ]
     },
     "execution_count": 52,
     "metadata": {},
     "output_type": "execute_result"
    },
    {
     "data": {
      "image/png": "[encoded data removed]",
      "text/plain": [
       "<matplotlib.figure.Figure at 0x1a58ad2b00>"
      ]
     },
     "metadata": {},
     "output_type": "display_data"
    }
   ],
   "source": [
    "import pandas as pd\n",
    "import matplotlib.pyplot as plt\n",
    "df = pd.DataFrame(history_callback.history)\n",
    "df[['acc', 'val_acc']].plot()\n",
    "plt.ylabel(\"accuracy\")\n",
    "df[['loss', 'val_loss']].plot(linestyle='--', ax=plt.twinx())\n",
    "plt.ylabel(\"loss\")"
   ]
  },
  {
   "cell_type": "code",
   "execution_count": 6,
   "metadata": {},
   "outputs": [
    {
     "name": "stdout",
     "output_type": "stream",
     "text": [
      "Train on 50000 samples, validate on 10000 samples\n",
      "Epoch 1/60\n",
      "50000/50000 [==============================] - 4s 84us/step - loss: 0.4372 - acc: 0.8761 - val_loss: 0.2253 - val_acc: 0.9365\n",
      "Epoch 2/60\n",
      "50000/50000 [==============================] - 3s 57us/step - loss: 0.1928 - acc: 0.9445 - val_loss: 0.1665 - val_acc: 0.9519\n",
      "Epoch 3/60\n",
      "50000/50000 [==============================] - 2s 46us/step - loss: 0.1432 - acc: 0.9581 - val_loss: 0.1338 - val_acc: 0.9612\n",
      "Epoch 4/60\n",
      "50000/50000 [==============================] - 2s 44us/step - loss: 0.1151 - acc: 0.9657 - val_loss: 0.1201 - val_acc: 0.9657\n",
      "Epoch 5/60\n",
      "50000/50000 [==============================] - 2s 45us/step - loss: 0.0958 - acc: 0.9713 - val_loss: 0.1136 - val_acc: 0.9660\n",
      "Epoch 6/60\n",
      "50000/50000 [==============================] - 3s 55us/step - loss: 0.0797 - acc: 0.9764 - val_loss: 0.1035 - val_acc: 0.9708\n",
      "Epoch 7/60\n",
      "50000/50000 [==============================] - 2s 48us/step - loss: 0.0678 - acc: 0.9797 - val_loss: 0.0921 - val_acc: 0.9732\n",
      "Epoch 8/60\n",
      "50000/50000 [==============================] - 2s 45us/step - loss: 0.0595 - acc: 0.9814 - val_loss: 0.0851 - val_acc: 0.9763\n",
      "Epoch 9/60\n",
      "50000/50000 [==============================] - 2s 46us/step - loss: 0.0524 - acc: 0.9838 - val_loss: 0.0872 - val_acc: 0.9756\n",
      "Epoch 10/60\n",
      "50000/50000 [==============================] - 3s 52us/step - loss: 0.0450 - acc: 0.9859 - val_loss: 0.0918 - val_acc: 0.9743\n",
      "Epoch 11/60\n",
      "50000/50000 [==============================] - 3s 51us/step - loss: 0.0380 - acc: 0.9885 - val_loss: 0.0845 - val_acc: 0.9763\n",
      "Epoch 12/60\n",
      "50000/50000 [==============================] - 2s 47us/step - loss: 0.0336 - acc: 0.9897 - val_loss: 0.0870 - val_acc: 0.9768\n",
      "Epoch 13/60\n",
      "50000/50000 [==============================] - 2s 48us/step - loss: 0.0304 - acc: 0.9905 - val_loss: 0.0873 - val_acc: 0.9764\n",
      "Epoch 14/60\n",
      "50000/50000 [==============================] - 3s 52us/step - loss: 0.0268 - acc: 0.9919 - val_loss: 0.0864 - val_acc: 0.9779\n",
      "Epoch 15/60\n",
      "50000/50000 [==============================] - 3s 51us/step - loss: 0.0214 - acc: 0.9938 - val_loss: 0.0944 - val_acc: 0.9758\n",
      "Epoch 16/60\n",
      "50000/50000 [==============================] - 3s 51us/step - loss: 0.0208 - acc: 0.9937 - val_loss: 0.0903 - val_acc: 0.9771\n",
      "Epoch 17/60\n",
      "50000/50000 [==============================] - 2s 49us/step - loss: 0.0181 - acc: 0.9945 - val_loss: 0.0979 - val_acc: 0.9765\n",
      "Epoch 18/60\n",
      "50000/50000 [==============================] - 3s 56us/step - loss: 0.0152 - acc: 0.9958 - val_loss: 0.1029 - val_acc: 0.9744\n",
      "Epoch 19/60\n",
      "50000/50000 [==============================] - 2s 49us/step - loss: 0.0133 - acc: 0.9963 - val_loss: 0.1003 - val_acc: 0.9771\n",
      "Epoch 20/60\n",
      "50000/50000 [==============================] - 2s 46us/step - loss: 0.0133 - acc: 0.9961 - val_loss: 0.1080 - val_acc: 0.9745\n",
      "Epoch 21/60\n",
      "50000/50000 [==============================] - 2s 48us/step - loss: 0.0113 - acc: 0.9967 - val_loss: 0.1043 - val_acc: 0.9765\n",
      "Epoch 22/60\n",
      "50000/50000 [==============================] - 3s 52us/step - loss: 0.0107 - acc: 0.9968 - val_loss: 0.1149 - val_acc: 0.9735\n",
      "Epoch 23/60\n",
      "50000/50000 [==============================] - 3s 53us/step - loss: 0.0115 - acc: 0.9964 - val_loss: 0.1125 - val_acc: 0.9762\n",
      "Epoch 24/60\n",
      "50000/50000 [==============================] - 2s 49us/step - loss: 0.0092 - acc: 0.9972 - val_loss: 0.1077 - val_acc: 0.9772\n",
      "Epoch 25/60\n",
      "50000/50000 [==============================] - 2s 47us/step - loss: 0.0083 - acc: 0.9976 - val_loss: 0.1234 - val_acc: 0.9734\n",
      "Epoch 26/60\n",
      "50000/50000 [==============================] - 2s 45us/step - loss: 0.0109 - acc: 0.9966 - val_loss: 0.1266 - val_acc: 0.9721\n",
      "Epoch 27/60\n",
      "50000/50000 [==============================] - 3s 56us/step - loss: 0.0086 - acc: 0.9975 - val_loss: 0.1143 - val_acc: 0.9755\n",
      "Epoch 28/60\n",
      "50000/50000 [==============================] - 3s 58us/step - loss: 0.0063 - acc: 0.9981 - val_loss: 0.1098 - val_acc: 0.9791\n",
      "Epoch 29/60\n",
      "50000/50000 [==============================] - 3s 54us/step - loss: 0.0034 - acc: 0.9992 - val_loss: 0.1040 - val_acc: 0.9788\n",
      "Epoch 30/60\n",
      "50000/50000 [==============================] - 3s 56us/step - loss: 0.0046 - acc: 0.9988 - val_loss: 0.1287 - val_acc: 0.9745\n",
      "Epoch 31/60\n",
      "50000/50000 [==============================] - 3s 55us/step - loss: 0.0134 - acc: 0.9953 - val_loss: 0.1167 - val_acc: 0.9780\n",
      "Epoch 32/60\n",
      "50000/50000 [==============================] - 3s 66us/step - loss: 0.0056 - acc: 0.9983 - val_loss: 0.1150 - val_acc: 0.9773\n",
      "Epoch 33/60\n",
      "50000/50000 [==============================] - 3s 61us/step - loss: 0.0039 - acc: 0.9990 - val_loss: 0.1281 - val_acc: 0.9764\n",
      "Epoch 34/60\n",
      "50000/50000 [==============================] - 3s 62us/step - loss: 0.0060 - acc: 0.9981 - val_loss: 0.1349 - val_acc: 0.9739\n",
      "Epoch 35/60\n",
      "50000/50000 [==============================] - 3s 61us/step - loss: 0.0058 - acc: 0.9981 - val_loss: 0.1298 - val_acc: 0.9765\n",
      "Epoch 36/60\n",
      "50000/50000 [==============================] - 3s 60us/step - loss: 0.0023 - acc: 0.9995 - val_loss: 0.1197 - val_acc: 0.9771\n",
      "Epoch 37/60\n",
      "50000/50000 [==============================] - 3s 62us/step - loss: 0.0013 - acc: 0.9998 - val_loss: 0.1160 - val_acc: 0.9778\n",
      "Epoch 38/60\n",
      "50000/50000 [==============================] - 3s 64us/step - loss: 0.0028 - acc: 0.9992 - val_loss: 0.1281 - val_acc: 0.9760\n",
      "Epoch 39/60\n",
      "50000/50000 [==============================] - 3s 60us/step - loss: 0.0156 - acc: 0.9946 - val_loss: 0.1300 - val_acc: 0.9761\n",
      "Epoch 40/60\n",
      "50000/50000 [==============================] - 3s 61us/step - loss: 0.0067 - acc: 0.9976 - val_loss: 0.1231 - val_acc: 0.9773\n",
      "Epoch 41/60\n",
      "50000/50000 [==============================] - 3s 55us/step - loss: 0.0014 - acc: 0.9998 - val_loss: 0.1213 - val_acc: 0.9794\n",
      "Epoch 42/60\n",
      "50000/50000 [==============================] - 3s 51us/step - loss: 4.1160e-04 - acc: 1.0000 - val_loss: 0.1213 - val_acc: 0.9785\n",
      "Epoch 43/60\n",
      "50000/50000 [==============================] - 3s 62us/step - loss: 2.6212e-04 - acc: 1.0000 - val_loss: 0.1181 - val_acc: 0.9786\n",
      "Epoch 44/60\n",
      "50000/50000 [==============================] - 3s 59us/step - loss: 2.0756e-04 - acc: 1.0000 - val_loss: 0.1193 - val_acc: 0.9788\n",
      "Epoch 45/60\n",
      "50000/50000 [==============================] - 2s 50us/step - loss: 1.8112e-04 - acc: 1.0000 - val_loss: 0.1198 - val_acc: 0.9799\n",
      "Epoch 46/60\n",
      "50000/50000 [==============================] - 2s 46us/step - loss: 1.6384e-04 - acc: 1.0000 - val_loss: 0.1202 - val_acc: 0.9798\n",
      "Epoch 47/60\n",
      "50000/50000 [==============================] - 2s 46us/step - loss: 1.4759e-04 - acc: 1.0000 - val_loss: 0.1211 - val_acc: 0.9797\n",
      "Epoch 48/60\n",
      "50000/50000 [==============================] - 2s 42us/step - loss: 1.3103e-04 - acc: 1.0000 - val_loss: 0.1227 - val_acc: 0.9793\n",
      "Epoch 49/60\n",
      "50000/50000 [==============================] - 3s 51us/step - loss: 1.1853e-04 - acc: 1.0000 - val_loss: 0.1226 - val_acc: 0.9796\n",
      "Epoch 50/60\n",
      "50000/50000 [==============================] - 3s 59us/step - loss: 1.0655e-04 - acc: 1.0000 - val_loss: 0.1242 - val_acc: 0.9797\n",
      "Epoch 51/60\n",
      "50000/50000 [==============================] - 3s 60us/step - loss: 5.7916e-04 - acc: 0.9999 - val_loss: 0.1566 - val_acc: 0.9722\n",
      "Epoch 52/60\n",
      "50000/50000 [==============================] - 3s 50us/step - loss: 0.0373 - acc: 0.9898 - val_loss: 0.1484 - val_acc: 0.9739\n",
      "Epoch 53/60\n",
      "50000/50000 [==============================] - 2s 47us/step - loss: 0.0062 - acc: 0.9978 - val_loss: 0.1296 - val_acc: 0.9767\n",
      "Epoch 54/60\n",
      "50000/50000 [==============================] - 2s 45us/step - loss: 0.0018 - acc: 0.9995 - val_loss: 0.1261 - val_acc: 0.9785\n",
      "Epoch 55/60\n",
      "50000/50000 [==============================] - 2s 45us/step - loss: 0.0012 - acc: 0.9997 - val_loss: 0.1253 - val_acc: 0.9789\n",
      "Epoch 56/60\n",
      "50000/50000 [==============================] - 3s 57us/step - loss: 3.6414e-04 - acc: 1.0000 - val_loss: 0.1232 - val_acc: 0.9797\n",
      "Epoch 57/60\n",
      "50000/50000 [==============================] - 3s 59us/step - loss: 1.8686e-04 - acc: 1.0000 - val_loss: 0.1234 - val_acc: 0.9795\n",
      "Epoch 58/60\n",
      "50000/50000 [==============================] - 3s 54us/step - loss: 1.2869e-04 - acc: 1.0000 - val_loss: 0.1237 - val_acc: 0.9793\n",
      "Epoch 59/60\n",
      "50000/50000 [==============================] - 2s 44us/step - loss: 1.0990e-04 - acc: 1.0000 - val_loss: 0.1241 - val_acc: 0.9791\n",
      "Epoch 60/60\n",
      "50000/50000 [==============================] - 2s 46us/step - loss: 9.6889e-05 - acc: 1.0000 - val_loss: 0.1251 - val_acc: 0.9791\n"
     ]
    }
   ],
   "source": [
    "###Dense layer with 64 units\n",
    "\n",
    "model = Sequential([\n",
    "            Dense(64,input_shape=(784,)),\n",
    "            Activation('relu'),\n",
    "            Dense(64),\n",
    "            Activation('relu'),\n",
    "            Dense(10),\n",
    "            Activation('softmax')])\n",
    "model.compile(optimizer = 'adam', loss=\"categorical_crossentropy\",metrics = ['accuracy'])\n",
    "history_callback = model.fit(X_train, y_train, batch_size=128,\n",
    "                             epochs=60, verbose=1, validation_data=(X_val,y_val))"
   ]
  },
  {
   "cell_type": "code",
   "execution_count": 7,
   "metadata": {},
   "outputs": [
    {
     "name": "stdout",
     "output_type": "stream",
     "text": [
      "loss function on validation set: 0.12505630256053263\n",
      "accuracy function on validation set: 0.9791\n"
     ]
    }
   ],
   "source": [
    "score = model.evaluate(X_val, y_val, verbose=0)\n",
    "print(\"loss function on validation set: {}\".format(score[0]))\n",
    "print(\"accuracy function on validation set: {}\".format(score[1]))"
   ]
  },
  {
   "cell_type": "code",
   "execution_count": 9,
   "metadata": {},
   "outputs": [
    {
     "data": {
      "text/plain": [
       "Text(0,0.5,'loss')"
      ]
     },
     "execution_count": 9,
     "metadata": {},
     "output_type": "execute_result"
    },
    {
     "data": {
      "image/png": "[encoded data removed]",
      "text/plain": [
       "<matplotlib.figure.Figure at 0x18288fd128>"
      ]
     },
     "metadata": {},
     "output_type": "display_data"
    }
   ],
   "source": [
    "import pandas as pd\n",
    "import matplotlib.pyplot as plt\n",
    "df = pd.DataFrame(history_callback.history)\n",
    "df[['acc', 'val_acc']].plot()\n",
    "plt.ylabel(\"accuracy\")\n",
    "df[['loss', 'val_loss']].plot(linestyle='--', ax=plt.twinx())\n",
    "plt.ylabel(\"loss\")"
   ]
  },
  {
   "cell_type": "code",
   "execution_count": 11,
   "metadata": {},
   "outputs": [
    {
     "name": "stdout",
     "output_type": "stream",
     "text": [
      "Train on 50000 samples, validate on 10000 samples\n",
      "Epoch 1/30\n",
      "50000/50000 [==============================] - 3s 65us/step - loss: 0.3565 - acc: 0.9010 - val_loss: 0.1752 - val_acc: 0.9513\n",
      "Epoch 2/30\n",
      "50000/50000 [==============================] - 3s 52us/step - loss: 0.1459 - acc: 0.9563 - val_loss: 0.1232 - val_acc: 0.9668\n",
      "Epoch 3/30\n",
      "50000/50000 [==============================] - 3s 52us/step - loss: 0.1008 - acc: 0.9698 - val_loss: 0.1171 - val_acc: 0.9653\n",
      "Epoch 4/30\n",
      "50000/50000 [==============================] - 3s 53us/step - loss: 0.0756 - acc: 0.9772 - val_loss: 0.0975 - val_acc: 0.9721\n",
      "Epoch 5/30\n",
      "50000/50000 [==============================] - 3s 53us/step - loss: 0.0582 - acc: 0.9824 - val_loss: 0.0842 - val_acc: 0.9749\n",
      "Epoch 6/30\n",
      "50000/50000 [==============================] - 3s 52us/step - loss: 0.0485 - acc: 0.9852 - val_loss: 0.0790 - val_acc: 0.9768\n",
      "Epoch 7/30\n",
      "50000/50000 [==============================] - 3s 53us/step - loss: 0.0378 - acc: 0.9882 - val_loss: 0.0820 - val_acc: 0.9766\n",
      "Epoch 8/30\n",
      "50000/50000 [==============================] - 3s 53us/step - loss: 0.0299 - acc: 0.9910 - val_loss: 0.0836 - val_acc: 0.9767\n",
      "Epoch 9/30\n",
      "50000/50000 [==============================] - 3s 52us/step - loss: 0.0249 - acc: 0.9922 - val_loss: 0.0808 - val_acc: 0.9796\n",
      "Epoch 10/30\n",
      "50000/50000 [==============================] - 3s 53us/step - loss: 0.0188 - acc: 0.9942 - val_loss: 0.0932 - val_acc: 0.9758\n",
      "Epoch 11/30\n",
      "50000/50000 [==============================] - 3s 56us/step - loss: 0.0161 - acc: 0.9950 - val_loss: 0.0908 - val_acc: 0.9767\n",
      "Epoch 12/30\n",
      "50000/50000 [==============================] - 3s 59us/step - loss: 0.0170 - acc: 0.9948 - val_loss: 0.0827 - val_acc: 0.9812\n",
      "Epoch 13/30\n",
      "50000/50000 [==============================] - 3s 57us/step - loss: 0.0132 - acc: 0.9960 - val_loss: 0.0915 - val_acc: 0.9790\n",
      "Epoch 14/30\n",
      "50000/50000 [==============================] - 3s 63us/step - loss: 0.0129 - acc: 0.9957 - val_loss: 0.0961 - val_acc: 0.9788\n",
      "Epoch 15/30\n",
      "50000/50000 [==============================] - 3s 62us/step - loss: 0.0123 - acc: 0.9960 - val_loss: 0.1021 - val_acc: 0.9784\n",
      "Epoch 16/30\n",
      "50000/50000 [==============================] - 3s 53us/step - loss: 0.0076 - acc: 0.9976 - val_loss: 0.0977 - val_acc: 0.9785\n",
      "Epoch 17/30\n",
      "50000/50000 [==============================] - 3s 50us/step - loss: 0.0115 - acc: 0.9962 - val_loss: 0.1264 - val_acc: 0.9735\n",
      "Epoch 18/30\n",
      "50000/50000 [==============================] - 3s 52us/step - loss: 0.0111 - acc: 0.9967 - val_loss: 0.0997 - val_acc: 0.9792\n",
      "Epoch 19/30\n",
      "50000/50000 [==============================] - 3s 54us/step - loss: 0.0082 - acc: 0.9973 - val_loss: 0.1053 - val_acc: 0.9787\n",
      "Epoch 20/30\n",
      "50000/50000 [==============================] - 3s 57us/step - loss: 0.0105 - acc: 0.9964 - val_loss: 0.1161 - val_acc: 0.9755\n",
      "Epoch 21/30\n",
      "50000/50000 [==============================] - 3s 58us/step - loss: 0.0092 - acc: 0.9972 - val_loss: 0.1047 - val_acc: 0.9795\n",
      "Epoch 22/30\n",
      "50000/50000 [==============================] - 3s 51us/step - loss: 0.0041 - acc: 0.9990 - val_loss: 0.1010 - val_acc: 0.9815\n",
      "Epoch 23/30\n",
      "50000/50000 [==============================] - 3s 58us/step - loss: 0.0014 - acc: 0.9999 - val_loss: 0.0946 - val_acc: 0.9826\n",
      "Epoch 24/30\n",
      "50000/50000 [==============================] - 3s 55us/step - loss: 0.0014 - acc: 0.9997 - val_loss: 0.1070 - val_acc: 0.9793\n",
      "Epoch 25/30\n",
      "50000/50000 [==============================] - 3s 54us/step - loss: 0.0159 - acc: 0.9949 - val_loss: 0.1169 - val_acc: 0.9778\n",
      "Epoch 26/30\n",
      "50000/50000 [==============================] - 3s 54us/step - loss: 0.0136 - acc: 0.9955 - val_loss: 0.1045 - val_acc: 0.9803\n",
      "Epoch 27/30\n",
      "50000/50000 [==============================] - 3s 57us/step - loss: 0.0038 - acc: 0.9988 - val_loss: 0.1116 - val_acc: 0.9799\n",
      "Epoch 28/30\n",
      "50000/50000 [==============================] - 3s 54us/step - loss: 0.0013 - acc: 0.9997 - val_loss: 0.1041 - val_acc: 0.9803\n",
      "Epoch 29/30\n",
      "50000/50000 [==============================] - 3s 54us/step - loss: 8.5637e-04 - acc: 0.9998 - val_loss: 0.1146 - val_acc: 0.9797\n",
      "Epoch 30/30\n",
      "50000/50000 [==============================] - 3s 54us/step - loss: 0.0107 - acc: 0.9965 - val_loss: 0.1248 - val_acc: 0.9786\n",
      "loss function on validation set: 0.1247908831794688\n",
      "accuracy function on validation set: 0.9786\n"
     ]
    }
   ],
   "source": [
    "\n",
    "model = Sequential([\n",
    "            Dense(128,input_shape=(784,)),\n",
    "            Activation('relu'),\n",
    "            Dense(128),\n",
    "            Activation('relu'),\n",
    "            Dense(10),\n",
    "            Activation('softmax')])\n",
    "model.compile(optimizer = 'adam', loss=\"categorical_crossentropy\",metrics = ['accuracy'])\n",
    "history_callback = model.fit(X_train, y_train, batch_size=128,\n",
    "                             epochs=30, verbose=1, validation_data=(X_val,y_val))\n",
    "\n",
    "score = model.evaluate(X_val, y_val, verbose=0)\n",
    "print(\"loss function on validation set: {}\".format(score[0]))\n",
    "print(\"accuracy function on validation set: {}\".format(score[1]))\n"
   ]
  },
  {
   "cell_type": "code",
   "execution_count": 12,
   "metadata": {},
   "outputs": [
    {
     "data": {
      "text/plain": [
       "Text(0,0.5,'loss')"
      ]
     },
     "execution_count": 12,
     "metadata": {},
     "output_type": "execute_result"
    },
    {
     "data": {
      "image/png": "[encoded data removed]",
      "text/plain": [
       "<matplotlib.figure.Figure at 0x18297d0a90>"
      ]
     },
     "metadata": {},
     "output_type": "display_data"
    }
   ],
   "source": [
    "import pandas as pd\n",
    "import matplotlib.pyplot as plt\n",
    "df = pd.DataFrame(history_callback.history)\n",
    "df[['acc', 'val_acc']].plot()\n",
    "plt.ylabel(\"accuracy\")\n",
    "df[['loss', 'val_loss']].plot(linestyle='--', ax=plt.twinx())\n",
    "plt.ylabel(\"loss\")"
   ]
  },
  {
   "cell_type": "markdown",
   "metadata": {},
   "source": [
    "Dense layer with 64 units perform the best with 0.9791 accuarcy on validation set.\n",
    "\n",
    "\n",
    "In the learning plot of vinalla model, notice that though train loss function is decreasing all the time, we have validation loss increasing after 20 epoch. Although our val_accuracy almost stays the same, the loss function of validation indicates an evidence of overfit."
   ]
  },
  {
   "cell_type": "markdown",
   "metadata": {},
   "source": [
    "## Drop Out"
   ]
  },
  {
   "cell_type": "code",
   "execution_count": 65,
   "metadata": {},
   "outputs": [
    {
     "name": "stdout",
     "output_type": "stream",
     "text": [
      "Train on 60000 samples, validate on 10000 samples\n",
      "Epoch 1/10\n",
      "60000/60000 [==============================] - 5s 87us/step - loss: 1.5918 - acc: 0.4206 - val_loss: 0.5316 - val_acc: 0.9010\n",
      "Epoch 2/10\n",
      "60000/60000 [==============================] - 3s 50us/step - loss: 1.2991 - acc: 0.5037 - val_loss: 0.3757 - val_acc: 0.9209\n",
      "Epoch 3/10\n",
      "60000/60000 [==============================] - 3s 43us/step - loss: 1.2345 - acc: 0.5208 - val_loss: 0.3157 - val_acc: 0.9289\n",
      "Epoch 4/10\n",
      "60000/60000 [==============================] - 3s 46us/step - loss: 1.2157 - acc: 0.5256 - val_loss: 0.3089 - val_acc: 0.9301\n",
      "Epoch 5/10\n",
      "60000/60000 [==============================] - 3s 51us/step - loss: 1.1958 - acc: 0.5255 - val_loss: 0.2765 - val_acc: 0.9354\n",
      "Epoch 6/10\n",
      "60000/60000 [==============================] - 3s 49us/step - loss: 1.1803 - acc: 0.5300 - val_loss: 0.2901 - val_acc: 0.9353\n",
      "Epoch 7/10\n",
      "60000/60000 [==============================] - 3s 44us/step - loss: 1.1813 - acc: 0.5293 - val_loss: 0.2539 - val_acc: 0.9396\n",
      "Epoch 8/10\n",
      "60000/60000 [==============================] - 3s 45us/step - loss: 1.1701 - acc: 0.5314 - val_loss: 0.2528 - val_acc: 0.9411\n",
      "Epoch 9/10\n",
      "60000/60000 [==============================] - 3s 46us/step - loss: 1.1724 - acc: 0.5300 - val_loss: 0.2472 - val_acc: 0.9405\n",
      "Epoch 10/10\n",
      "60000/60000 [==============================] - 3s 47us/step - loss: 1.1598 - acc: 0.5353 - val_loss: 0.2464 - val_acc: 0.9434\n"
     ]
    }
   ],
   "source": [
    "from keras.layers import Dropout\n",
    "model = Sequential([\n",
    "            Dense(32,input_shape=(784,)),\n",
    "            Activation('relu'),\n",
    "            Dropout(0.5),\n",
    "            Dense(32),\n",
    "            Activation('relu'),\n",
    "            Dense(10),\n",
    "            Dropout(0.5),\n",
    "            Activation('softmax')])\n",
    "model.compile(optimizer = 'adam', loss=\"categorical_crossentropy\",metrics = ['accuracy'])\n",
    "history_callback = model.fit(X_train, y_train, batch_size=128,\n",
    "                             epochs=10, verbose=1, validation_data=(X_val,y_val))"
   ]
  },
  {
   "cell_type": "code",
   "execution_count": 66,
   "metadata": {},
   "outputs": [
    {
     "name": "stdout",
     "output_type": "stream",
     "text": [
      "loss function on validation set: 0.24644227361679077\n",
      "accuracy function on validation set: 0.9434\n"
     ]
    }
   ],
   "source": [
    "score = model.evaluate(X_val, y_val, verbose=0)\n",
    "print(\"loss function on validation set: {}\".format(score[0]))\n",
    "print(\"accuracy function on validation set: {}\".format(score[1]))"
   ]
  },
  {
   "cell_type": "code",
   "execution_count": 67,
   "metadata": {},
   "outputs": [
    {
     "name": "stdout",
     "output_type": "stream",
     "text": [
      "_________________________________________________________________\n",
      "Layer (type)                 Output Shape              Param #   \n",
      "=================================================================\n",
      "dense_126 (Dense)            (None, 32)                25120     \n",
      "_________________________________________________________________\n",
      "activation_126 (Activation)  (None, 32)                0         \n",
      "_________________________________________________________________\n",
      "dropout_3 (Dropout)          (None, 32)                0         \n",
      "_________________________________________________________________\n",
      "dense_127 (Dense)            (None, 32)                1056      \n",
      "_________________________________________________________________\n",
      "activation_127 (Activation)  (None, 32)                0         \n",
      "_________________________________________________________________\n",
      "dense_128 (Dense)            (None, 10)                330       \n",
      "_________________________________________________________________\n",
      "dropout_4 (Dropout)          (None, 10)                0         \n",
      "_________________________________________________________________\n",
      "activation_128 (Activation)  (None, 10)                0         \n",
      "=================================================================\n",
      "Total params: 26,506\n",
      "Trainable params: 26,506\n",
      "Non-trainable params: 0\n",
      "_________________________________________________________________\n"
     ]
    }
   ],
   "source": [
    "model.summary()"
   ]
  },
  {
   "cell_type": "code",
   "execution_count": 68,
   "metadata": {},
   "outputs": [
    {
     "data": {
      "text/plain": [
       "Text(0,0.5,'loss')"
      ]
     },
     "execution_count": 68,
     "metadata": {},
     "output_type": "execute_result"
    },
    {
     "data": {
      "image/png": "[encoded data removed]",
      "text/plain": [
       "<matplotlib.figure.Figure at 0x1a588eff60>"
      ]
     },
     "metadata": {},
     "output_type": "display_data"
    }
   ],
   "source": [
    "import pandas as pd\n",
    "import matplotlib.pyplot as plt\n",
    "df = pd.DataFrame(history_callback.history)\n",
    "df[['acc', 'val_acc']].plot()\n",
    "plt.ylabel(\"accuracy\")\n",
    "df[['loss', 'val_loss']].plot(linestyle='--', ax=plt.twinx())\n",
    "plt.ylabel(\"loss\")"
   ]
  },
  {
   "cell_type": "markdown",
   "metadata": {},
   "source": [
    "From the learning curve, we know that validation accuracy have the increasing trend alone with train accuracy, unlike the learning curve in vinalla model which is prone to overfitting."
   ]
  },
  {
   "cell_type": "code",
   "execution_count": 13,
   "metadata": {},
   "outputs": [
    {
     "name": "stdout",
     "output_type": "stream",
     "text": [
      "Train on 50000 samples, validate on 10000 samples\n",
      "Epoch 1/10\n",
      "50000/50000 [==============================] - 3s 69us/step - loss: 1.4191 - acc: 0.4727 - val_loss: 0.3755 - val_acc: 0.9175\n",
      "Epoch 2/10\n",
      "50000/50000 [==============================] - 2s 43us/step - loss: 1.1598 - acc: 0.5414 - val_loss: 0.2943 - val_acc: 0.9308\n",
      "Epoch 3/10\n",
      "50000/50000 [==============================] - 2s 49us/step - loss: 1.1097 - acc: 0.5514 - val_loss: 0.2340 - val_acc: 0.9429\n",
      "Epoch 4/10\n",
      "50000/50000 [==============================] - 3s 57us/step - loss: 1.0824 - acc: 0.5580 - val_loss: 0.2121 - val_acc: 0.9472\n",
      "Epoch 5/10\n",
      "50000/50000 [==============================] - 2s 47us/step - loss: 1.0727 - acc: 0.5564 - val_loss: 0.2161 - val_acc: 0.9504\n",
      "Epoch 6/10\n",
      "50000/50000 [==============================] - 2s 45us/step - loss: 1.0518 - acc: 0.5611 - val_loss: 0.1896 - val_acc: 0.9529\n",
      "Epoch 7/10\n",
      "50000/50000 [==============================] - 2s 46us/step - loss: 1.0424 - acc: 0.5645 - val_loss: 0.1815 - val_acc: 0.9524\n",
      "Epoch 8/10\n",
      "50000/50000 [==============================] - 2s 45us/step - loss: 1.0471 - acc: 0.5610 - val_loss: 0.1765 - val_acc: 0.9551\n",
      "Epoch 9/10\n",
      "50000/50000 [==============================] - 2s 43us/step - loss: 1.0317 - acc: 0.5656 - val_loss: 0.1665 - val_acc: 0.9567\n",
      "Epoch 10/10\n",
      "50000/50000 [==============================] - 2s 41us/step - loss: 1.0276 - acc: 0.5656 - val_loss: 0.1648 - val_acc: 0.9596\n"
     ]
    }
   ],
   "source": [
    "from keras.layers import Dropout\n",
    "model = Sequential([\n",
    "            Dense(64,input_shape=(784,)),\n",
    "            Activation('relu'),\n",
    "            Dropout(0.5),\n",
    "            Dense(64),\n",
    "            Activation('relu'),\n",
    "            Dense(10),\n",
    "            Dropout(0.5),\n",
    "            Activation('softmax')])\n",
    "model.compile(optimizer = 'adam', loss=\"categorical_crossentropy\",metrics = ['accuracy'])\n",
    "history_callback = model.fit(X_train, y_train, batch_size=128,\n",
    "                             epochs=10, verbose=1, validation_data=(X_val,y_val))"
   ]
  },
  {
   "cell_type": "code",
   "execution_count": 14,
   "metadata": {},
   "outputs": [
    {
     "name": "stdout",
     "output_type": "stream",
     "text": [
      "loss function on validation set: 0.16479392840862275\n",
      "accuracy function on validation set: 0.9596\n"
     ]
    },
    {
     "data": {
      "text/plain": [
       "Text(0,0.5,'loss')"
      ]
     },
     "execution_count": 14,
     "metadata": {},
     "output_type": "execute_result"
    },
    {
     "data": {
      "image/png": "[encoded data removed]",
      "text/plain": [
       "<matplotlib.figure.Figure at 0x181e850470>"
      ]
     },
     "metadata": {},
     "output_type": "display_data"
    }
   ],
   "source": [
    "score = model.evaluate(X_val, y_val, verbose=0)\n",
    "print(\"loss function on validation set: {}\".format(score[0]))\n",
    "print(\"accuracy function on validation set: {}\".format(score[1]))\n",
    "import pandas as pd\n",
    "import matplotlib.pyplot as plt\n",
    "df = pd.DataFrame(history_callback.history)\n",
    "df[['acc', 'val_acc']].plot()\n",
    "plt.ylabel(\"accuracy\")\n",
    "df[['loss', 'val_loss']].plot(linestyle='--', ax=plt.twinx())\n",
    "plt.ylabel(\"loss\")"
   ]
  },
  {
   "cell_type": "code",
   "execution_count": 16,
   "metadata": {},
   "outputs": [
    {
     "name": "stdout",
     "output_type": "stream",
     "text": [
      "Train on 60000 samples, validate on 10000 samples\n",
      "Epoch 1/10\n",
      "60000/60000 [==============================] - 5s 89us/step - loss: 1.2671 - acc: 0.5115 - val_loss: 0.2595 - val_acc: 0.9409\n",
      "Epoch 2/10\n",
      "60000/60000 [==============================] - 4s 64us/step - loss: 1.0618 - acc: 0.5601 - val_loss: 0.1785 - val_acc: 0.9560\n",
      "Epoch 3/10\n",
      "60000/60000 [==============================] - 4s 63us/step - loss: 1.0226 - acc: 0.5696 - val_loss: 0.1538 - val_acc: 0.9633\n",
      "Epoch 4/10\n",
      "60000/60000 [==============================] - 4s 64us/step - loss: 1.0006 - acc: 0.5744 - val_loss: 0.1309 - val_acc: 0.9689\n",
      "Epoch 5/10\n",
      "60000/60000 [==============================] - 4s 59us/step - loss: 0.9863 - acc: 0.5751 - val_loss: 0.1077 - val_acc: 0.9746\n",
      "Epoch 6/10\n",
      "60000/60000 [==============================] - 3s 58us/step - loss: 0.9732 - acc: 0.5796 - val_loss: 0.0994 - val_acc: 0.9762\n",
      "Epoch 7/10\n",
      "60000/60000 [==============================] - 4s 59us/step - loss: 0.9624 - acc: 0.5787 - val_loss: 0.0982 - val_acc: 0.9767\n",
      "Epoch 8/10\n",
      "60000/60000 [==============================] - 4s 63us/step - loss: 0.9648 - acc: 0.5775 - val_loss: 0.0872 - val_acc: 0.9782\n",
      "Epoch 9/10\n",
      "60000/60000 [==============================] - 4s 59us/step - loss: 0.9612 - acc: 0.5792 - val_loss: 0.0802 - val_acc: 0.9809\n",
      "Epoch 10/10\n",
      "60000/60000 [==============================] - 4s 59us/step - loss: 0.9530 - acc: 0.5810 - val_loss: 0.0777 - val_acc: 0.9807\n",
      "loss function on validation set: 0.07769019335657358\n",
      "accuracy function on validation set: 0.9807\n"
     ]
    },
    {
     "data": {
      "text/plain": [
       "Text(0,0.5,'loss')"
      ]
     },
     "execution_count": 16,
     "metadata": {},
     "output_type": "execute_result"
    },
    {
     "data": {
      "image/png": "[encoded data removed]",
      "text/plain": [
       "<matplotlib.figure.Figure at 0x1a2bc55518>"
      ]
     },
     "metadata": {},
     "output_type": "display_data"
    }
   ],
   "source": [
    "from keras.layers import Dropout\n",
    "model = Sequential([\n",
    "            Dense(128,input_shape=(784,)),\n",
    "            Activation('relu'),\n",
    "            Dropout(0.5),\n",
    "            Dense(128),\n",
    "            Activation('relu'),\n",
    "            Dense(10),\n",
    "            Dropout(0.5),\n",
    "            Activation('softmax')])\n",
    "model.compile(optimizer = 'adam', loss=\"categorical_crossentropy\",metrics = ['accuracy'])\n",
    "history_callback = model.fit(X_train, y_train, batch_size=128,\n",
    "                             epochs=10, verbose=1, validation_data=(X_val,y_val))\n",
    "score = model.evaluate(X_val, y_val, verbose=0)\n",
    "print(\"loss function on validation set: {}\".format(score[0]))\n",
    "print(\"accuracy function on validation set: {}\".format(score[1]))\n",
    "import pandas as pd\n",
    "import matplotlib.pyplot as plt\n",
    "df = pd.DataFrame(history_callback.history)\n",
    "df[['acc', 'val_acc']].plot()\n",
    "plt.ylabel(\"accuracy\")\n",
    "df[['loss', 'val_loss']].plot(linestyle='--', ax=plt.twinx())\n",
    "plt.ylabel(\"loss\")"
   ]
  },
  {
   "cell_type": "markdown",
   "metadata": {},
   "source": [
    "We choose model with dropout rate 0.5, dense layer 128.\n",
    "Since validation score for drop out (0.9807) is greater than score of vinalla (0.9791),\n",
    "we choose train the drop out model on entire train dataset to evaluate the final test score."
   ]
  },
  {
   "cell_type": "code",
   "execution_count": 8,
   "metadata": {},
   "outputs": [
    {
     "name": "stdout",
     "output_type": "stream",
     "text": [
      "60000 train samples\n",
      "10000 test samples\n",
      "Train on 54000 samples, validate on 6000 samples\n",
      "Epoch 1/60\n",
      "54000/54000 [==============================] - 4s 66us/step - loss: 1.2797 - acc: 0.5106 - val_loss: 0.2337 - val_acc: 0.9468\n",
      "Epoch 2/60\n",
      "54000/54000 [==============================] - 3s 57us/step - loss: 1.0697 - acc: 0.5595 - val_loss: 0.1595 - val_acc: 0.9645\n",
      "Epoch 3/60\n",
      "54000/54000 [==============================] - 3s 53us/step - loss: 1.0390 - acc: 0.5651 - val_loss: 0.1365 - val_acc: 0.9655\n",
      "Epoch 4/60\n",
      "54000/54000 [==============================] - 3s 53us/step - loss: 1.0008 - acc: 0.5736 - val_loss: 0.1208 - val_acc: 0.9687\n",
      "Epoch 5/60\n",
      "54000/54000 [==============================] - 3s 53us/step - loss: 0.9935 - acc: 0.5733 - val_loss: 0.1090 - val_acc: 0.9737\n",
      "Epoch 6/60\n",
      "54000/54000 [==============================] - 3s 53us/step - loss: 0.9717 - acc: 0.5778 - val_loss: 0.1084 - val_acc: 0.9680\n",
      "Epoch 7/60\n",
      "54000/54000 [==============================] - 3s 53us/step - loss: 0.9679 - acc: 0.5797 - val_loss: 0.0927 - val_acc: 0.9743\n",
      "Epoch 8/60\n",
      "54000/54000 [==============================] - 3s 53us/step - loss: 0.9707 - acc: 0.5781 - val_loss: 0.0946 - val_acc: 0.9753\n",
      "Epoch 9/60\n",
      "54000/54000 [==============================] - 3s 54us/step - loss: 0.9582 - acc: 0.5788 - val_loss: 0.0954 - val_acc: 0.9765\n",
      "Epoch 10/60\n",
      "54000/54000 [==============================] - 3s 53us/step - loss: 0.9545 - acc: 0.5821 - val_loss: 0.0867 - val_acc: 0.9780\n",
      "Epoch 11/60\n",
      "54000/54000 [==============================] - 3s 54us/step - loss: 0.9453 - acc: 0.5827 - val_loss: 0.0844 - val_acc: 0.9782\n",
      "Epoch 12/60\n",
      "54000/54000 [==============================] - 3s 53us/step - loss: 0.9433 - acc: 0.5839 - val_loss: 0.0818 - val_acc: 0.9788\n",
      "Epoch 13/60\n",
      "54000/54000 [==============================] - 3s 53us/step - loss: 0.9360 - acc: 0.5850 - val_loss: 0.0835 - val_acc: 0.9765\n",
      "Epoch 14/60\n",
      "54000/54000 [==============================] - 3s 53us/step - loss: 0.9389 - acc: 0.5811 - val_loss: 0.0826 - val_acc: 0.9767\n",
      "Epoch 15/60\n",
      "54000/54000 [==============================] - 3s 54us/step - loss: 0.9425 - acc: 0.5815 - val_loss: 0.0825 - val_acc: 0.9780\n",
      "Epoch 16/60\n",
      "54000/54000 [==============================] - 3s 55us/step - loss: 0.9316 - acc: 0.5861 - val_loss: 0.0739 - val_acc: 0.9767\n",
      "Epoch 17/60\n",
      "54000/54000 [==============================] - 3s 53us/step - loss: 0.9275 - acc: 0.5866 - val_loss: 0.0770 - val_acc: 0.9793\n",
      "Epoch 18/60\n",
      "54000/54000 [==============================] - 3s 53us/step - loss: 0.9262 - acc: 0.5867 - val_loss: 0.0775 - val_acc: 0.9793\n",
      "Epoch 19/60\n",
      "54000/54000 [==============================] - 3s 53us/step - loss: 0.9212 - acc: 0.5884 - val_loss: 0.0768 - val_acc: 0.9778\n",
      "Epoch 20/60\n",
      "54000/54000 [==============================] - 3s 53us/step - loss: 0.9252 - acc: 0.5856 - val_loss: 0.0719 - val_acc: 0.9812\n",
      "Epoch 21/60\n",
      "54000/54000 [==============================] - 3s 53us/step - loss: 0.9240 - acc: 0.5856 - val_loss: 0.0717 - val_acc: 0.9803\n",
      "Epoch 22/60\n",
      "54000/54000 [==============================] - 3s 53us/step - loss: 0.9279 - acc: 0.5837 - val_loss: 0.0739 - val_acc: 0.9792\n",
      "Epoch 23/60\n",
      "54000/54000 [==============================] - 3s 53us/step - loss: 0.9133 - acc: 0.5896 - val_loss: 0.0710 - val_acc: 0.9798\n",
      "Epoch 24/60\n",
      "54000/54000 [==============================] - 3s 53us/step - loss: 0.9266 - acc: 0.5840 - val_loss: 0.0739 - val_acc: 0.9797\n",
      "Epoch 25/60\n",
      "54000/54000 [==============================] - 3s 53us/step - loss: 0.9168 - acc: 0.5867 - val_loss: 0.0700 - val_acc: 0.9795\n",
      "Epoch 26/60\n",
      "54000/54000 [==============================] - 3s 54us/step - loss: 0.9137 - acc: 0.5880 - val_loss: 0.0710 - val_acc: 0.9805\n",
      "Epoch 27/60\n",
      "54000/54000 [==============================] - 3s 53us/step - loss: 0.9166 - acc: 0.5871 - val_loss: 0.0726 - val_acc: 0.9793\n",
      "Epoch 28/60\n",
      "54000/54000 [==============================] - 3s 53us/step - loss: 0.9116 - acc: 0.5867 - val_loss: 0.0700 - val_acc: 0.9808\n",
      "Epoch 29/60\n",
      "54000/54000 [==============================] - 3s 53us/step - loss: 0.9106 - acc: 0.5879 - val_loss: 0.0696 - val_acc: 0.9793\n",
      "Epoch 30/60\n",
      "54000/54000 [==============================] - 3s 53us/step - loss: 0.9091 - acc: 0.5908 - val_loss: 0.0682 - val_acc: 0.9803\n",
      "Epoch 31/60\n",
      "54000/54000 [==============================] - 3s 54us/step - loss: 0.9010 - acc: 0.5928 - val_loss: 0.0688 - val_acc: 0.9795\n",
      "Epoch 32/60\n",
      "54000/54000 [==============================] - 3s 54us/step - loss: 0.9099 - acc: 0.5857 - val_loss: 0.0707 - val_acc: 0.9800\n",
      "Epoch 33/60\n",
      "54000/54000 [==============================] - 3s 58us/step - loss: 0.9185 - acc: 0.5848 - val_loss: 0.0697 - val_acc: 0.9810\n",
      "Epoch 34/60\n",
      "54000/54000 [==============================] - 3s 54us/step - loss: 0.9077 - acc: 0.5887 - val_loss: 0.0661 - val_acc: 0.9802\n",
      "Epoch 35/60\n",
      "54000/54000 [==============================] - 3s 55us/step - loss: 0.9046 - acc: 0.5917 - val_loss: 0.0667 - val_acc: 0.9807\n",
      "Epoch 36/60\n",
      "54000/54000 [==============================] - 3s 55us/step - loss: 0.9054 - acc: 0.5883 - val_loss: 0.0651 - val_acc: 0.9830\n",
      "Epoch 37/60\n",
      "54000/54000 [==============================] - 3s 53us/step - loss: 0.9027 - acc: 0.5906 - val_loss: 0.0639 - val_acc: 0.9807\n",
      "Epoch 38/60\n",
      "54000/54000 [==============================] - 3s 53us/step - loss: 0.8908 - acc: 0.5954 - val_loss: 0.0661 - val_acc: 0.9812\n",
      "Epoch 39/60\n",
      "54000/54000 [==============================] - 3s 53us/step - loss: 0.8969 - acc: 0.5932 - val_loss: 0.0689 - val_acc: 0.9798\n",
      "Epoch 40/60\n",
      "54000/54000 [==============================] - 3s 53us/step - loss: 0.9026 - acc: 0.5897 - val_loss: 0.0669 - val_acc: 0.9807\n",
      "Epoch 41/60\n",
      "54000/54000 [==============================] - 3s 54us/step - loss: 0.9042 - acc: 0.5888 - val_loss: 0.0672 - val_acc: 0.9802\n",
      "Epoch 42/60\n",
      "54000/54000 [==============================] - 3s 53us/step - loss: 0.9030 - acc: 0.5898 - val_loss: 0.0705 - val_acc: 0.9790\n",
      "Epoch 43/60\n",
      "54000/54000 [==============================] - 3s 53us/step - loss: 0.8966 - acc: 0.5901 - val_loss: 0.0689 - val_acc: 0.9803\n",
      "Epoch 44/60\n",
      "54000/54000 [==============================] - 3s 53us/step - loss: 0.8992 - acc: 0.5924 - val_loss: 0.0678 - val_acc: 0.9787\n",
      "Epoch 45/60\n",
      "54000/54000 [==============================] - 3s 53us/step - loss: 0.8949 - acc: 0.5904 - val_loss: 0.0681 - val_acc: 0.9788\n",
      "Epoch 46/60\n",
      "54000/54000 [==============================] - 3s 53us/step - loss: 0.8993 - acc: 0.5910 - val_loss: 0.0680 - val_acc: 0.9797\n",
      "Epoch 47/60\n",
      "54000/54000 [==============================] - 3s 54us/step - loss: 0.9002 - acc: 0.5883 - val_loss: 0.0651 - val_acc: 0.9813\n",
      "Epoch 48/60\n",
      "54000/54000 [==============================] - 3s 53us/step - loss: 0.8951 - acc: 0.5912 - val_loss: 0.0640 - val_acc: 0.9822\n",
      "Epoch 49/60\n",
      "54000/54000 [==============================] - 3s 53us/step - loss: 0.9030 - acc: 0.5880 - val_loss: 0.0664 - val_acc: 0.9800\n",
      "Epoch 50/60\n",
      "54000/54000 [==============================] - 3s 53us/step - loss: 0.8984 - acc: 0.5882 - val_loss: 0.0705 - val_acc: 0.9793\n",
      "Epoch 51/60\n",
      "54000/54000 [==============================] - 3s 53us/step - loss: 0.8910 - acc: 0.5951 - val_loss: 0.0634 - val_acc: 0.9810\n",
      "Epoch 52/60\n",
      "54000/54000 [==============================] - 3s 53us/step - loss: 0.8917 - acc: 0.5947 - val_loss: 0.0697 - val_acc: 0.9795\n",
      "Epoch 53/60\n",
      "54000/54000 [==============================] - 3s 55us/step - loss: 0.9004 - acc: 0.5911 - val_loss: 0.0677 - val_acc: 0.9792\n",
      "Epoch 54/60\n",
      "54000/54000 [==============================] - 3s 53us/step - loss: 0.8967 - acc: 0.5901 - val_loss: 0.0656 - val_acc: 0.9813\n",
      "Epoch 55/60\n",
      "54000/54000 [==============================] - 3s 54us/step - loss: 0.8952 - acc: 0.5916 - val_loss: 0.0692 - val_acc: 0.9797\n",
      "Epoch 56/60\n",
      "54000/54000 [==============================] - 3s 54us/step - loss: 0.8869 - acc: 0.5942 - val_loss: 0.0647 - val_acc: 0.9803\n",
      "Epoch 57/60\n",
      "54000/54000 [==============================] - 3s 54us/step - loss: 0.8961 - acc: 0.5876 - val_loss: 0.0635 - val_acc: 0.9807\n",
      "Epoch 58/60\n",
      "54000/54000 [==============================] - 3s 54us/step - loss: 0.8875 - acc: 0.5959 - val_loss: 0.0604 - val_acc: 0.9820\n",
      "Epoch 59/60\n",
      "54000/54000 [==============================] - 3s 53us/step - loss: 0.8942 - acc: 0.5892 - val_loss: 0.0627 - val_acc: 0.9803\n"
     ]
    },
    {
     "name": "stdout",
     "output_type": "stream",
     "text": [
      "Epoch 60/60\n",
      "54000/54000 [==============================] - 3s 52us/step - loss: 0.8909 - acc: 0.5896 - val_loss: 0.0608 - val_acc: 0.9827\n",
      "loss function on validation set: 0.07633006132193841\n",
      "accuracy function on validation set: 0.9779\n"
     ]
    },
    {
     "data": {
      "text/plain": [
       "Text(0,0.5,'loss')"
      ]
     },
     "execution_count": 8,
     "metadata": {},
     "output_type": "execute_result"
    }
   ],
   "source": [
    "from keras.layers import Dropout\n",
    "## select the better model run on entire train dataset for evaluation\n",
    "# reload the data \n",
    "(X_train, y_train), (X_test, y_test) = mnist.load_data()\n",
    "X_train = X_train.reshape(60000, 784)\n",
    "X_test = X_test.reshape(10000, 784)\n",
    "X_train = X_train.astype('float32')\n",
    "X_test = X_test.astype('float32')\n",
    "X_train /= 255\n",
    "X_test /= 255\n",
    "print(X_train.shape[0], 'train samples')\n",
    "print(X_test.shape[0], 'test samples')\n",
    "\n",
    "num_classes = 10\n",
    "# convert class vectors to binary class matrices\n",
    "y_train = keras.utils.to_categorical(y_train, num_classes)\n",
    "y_test = keras.utils.to_categorical(y_test, num_classes)\n",
    "\n",
    "model = Sequential([\n",
    "            Dense(128,input_shape=(784,)),\n",
    "            Activation('relu'),\n",
    "            Dropout(0.5),\n",
    "            Dense(128),\n",
    "            Activation('relu'),\n",
    "            Dense(10),\n",
    "            Dropout(0.5),\n",
    "            Activation('softmax')])\n",
    "\n",
    "model.compile(optimizer = 'adam', loss=\"categorical_crossentropy\",metrics = ['accuracy'])\n",
    "history_callback = model.fit(X_train, y_train, batch_size=128,\n",
    "                             epochs=60, verbose=1, validation_split=.1)\n",
    "\n"
   ]
  },
  {
   "cell_type": "code",
   "execution_count": 10,
   "metadata": {},
   "outputs": [
    {
     "name": "stdout",
     "output_type": "stream",
     "text": [
      "loss function on validation set: 0.07633006132193841\n",
      "accuracy function on validation set: 0.9779\n"
     ]
    }
   ],
   "source": [
    "score = model.evaluate(X_test, y_test, verbose=0)\n",
    "print(\"loss function on validation set: {}\".format(score[0]))\n",
    "print(\"accuracy function on validation set: {}\".format(score[1]))\n",
    "\n"
   ]
  },
  {
   "cell_type": "code",
   "execution_count": 9,
   "metadata": {},
   "outputs": [
    {
     "data": {
      "text/plain": [
       "Text(0,0.5,'loss')"
      ]
     },
     "execution_count": 9,
     "metadata": {},
     "output_type": "execute_result"
    },
    {
     "data": {
      "image/png": "[encoded data removed]",
      "text/plain": [
       "<matplotlib.figure.Figure at 0x1828167f98>"
      ]
     },
     "metadata": {},
     "output_type": "display_data"
    }
   ],
   "source": [
    "import pandas as pd\n",
    "import matplotlib.pyplot as plt\n",
    "df = pd.DataFrame(history_callback.history)\n",
    "df[['acc', 'val_acc']].plot()\n",
    "plt.ylabel(\"accuracy\")\n",
    "df[['loss', 'val_loss']].plot(linestyle='--', ax=plt.twinx())\n",
    "plt.ylabel(\"loss\")\n",
    "\n"
   ]
  },
  {
   "cell_type": "markdown",
   "metadata": {},
   "source": [
    "accuracy function on validation set is 0.975, lower than validation dataset heldout. The plot shows the overall trend of accuracy increasing with loss function decreasing. "
   ]
  },
  {
   "cell_type": "code",
   "execution_count": null,
   "metadata": {},
   "outputs": [],
   "source": []
  }
 ],
 "metadata": {
  "kernelspec": {
   "display_name": "Python 3",
   "language": "python",
   "name": "python3"
  },
  "language_info": {
   "codemirror_mode": {
    "name": "ipython",
    "version": 3
   },
   "file_extension": ".py",
   "mimetype": "text/x-python",
   "name": "python",
   "nbconvert_exporter": "python",
   "pygments_lexer": "ipython3",
   "version": "3.5.4"
  }
 },
 "nbformat": 4,
 "nbformat_minor": 2
}
