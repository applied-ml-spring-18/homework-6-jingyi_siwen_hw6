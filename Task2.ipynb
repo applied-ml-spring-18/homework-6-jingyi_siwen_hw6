{
 "cells": [
  {
   "cell_type": "code",
   "execution_count": 1,
   "metadata": {},
   "outputs": [
    {
     "name": "stderr",
     "output_type": "stream",
     "text": [
      "Using TensorFlow backend.\n",
      "/Users/Selina/anaconda/envs/python3/lib/python3.5/importlib/_bootstrap.py:222: RuntimeWarning: compiletime version 3.6 of module 'tensorflow.python.framework.fast_tensor_util' does not match runtime version 3.5\n",
      "  return f(*args, **kwds)\n"
     ]
    },
    {
     "name": "stdout",
     "output_type": "stream",
     "text": [
      "Downloading data from https://s3.amazonaws.com/img-datasets/mnist.npz\n",
      "11493376/11490434 [==============================] - 1s 0us/step\n"
     ]
    }
   ],
   "source": [
    "from keras.datasets import mnist\n",
    "import keras\n",
    "(X_train, y_train), (X_test, y_test) = mnist.load_data()"
   ]
  },
  {
   "cell_type": "markdown",
   "metadata": {},
   "source": [
    "## 1. Preprocess"
   ]
  },
  {
   "cell_type": "code",
   "execution_count": 13,
   "metadata": {},
   "outputs": [],
   "source": [
    "import numpy as np\n",
    "import matplotlib"
   ]
  },
  {
   "cell_type": "code",
   "execution_count": 14,
   "metadata": {},
   "outputs": [
    {
     "name": "stdout",
     "output_type": "stream",
     "text": [
      "60000 train samples\n",
      "10000 test samples\n"
     ]
    }
   ],
   "source": [
    "X_train = X_train.reshape(60000, 784)\n",
    "X_test = X_test.reshape(10000, 784)\n",
    "X_train = X_train.astype('float32')\n",
    "X_test = X_test.astype('float32')\n",
    "X_train /= 255\n",
    "X_test /= 255\n",
    "print(X_train.shape[0], 'train samples')\n",
    "print(X_test.shape[0], 'test samples')\n",
    "\n",
    "num_classes = 10\n",
    "# convert class vectors to binary class matrices\n",
    "y_train = keras.utils.to_categorical(y_train, num_classes)\n",
    "y_test = keras.utils.to_categorical(y_test, num_classes)"
   ]
  },
  {
   "cell_type": "code",
   "execution_count": 33,
   "metadata": {},
   "outputs": [
    {
     "name": "stdout",
     "output_type": "stream",
     "text": [
      "(50000, 784) train samples\n",
      "(10000, 784) test samples\n"
     ]
    }
   ],
   "source": [
    "from sklearn.model_selection import train_test_split\n",
    "X_train, X_val, y_train, y_val = train_test_split(X_train, y_train, test_size = 1/6, stratify=y_train, random_state=0)\n",
    "print(X_train.shape, 'train samples')\n",
    "print(X_val.shape, 'test samples')"
   ]
  },
  {
   "cell_type": "code",
   "execution_count": 17,
   "metadata": {},
   "outputs": [
    {
     "name": "stderr",
     "output_type": "stream",
     "text": [
      "/Users/Selina/anaconda/envs/python3/lib/python3.5/site-packages/sklearn/cross_validation.py:41: DeprecationWarning: This module was deprecated in version 0.18 in favor of the model_selection module into which all the refactored classes and functions are moved. Also note that the interface of the new CV iterators are different from that of this module. This module will be removed in 0.20.\n",
      "  \"This module will be removed in 0.20.\", DeprecationWarning)\n",
      "/Users/Selina/anaconda/envs/python3/lib/python3.5/site-packages/sklearn/grid_search.py:42: DeprecationWarning: This module was deprecated in version 0.18 in favor of the model_selection module into which all the refactored classes and functions are moved. This module will be removed in 0.20.\n",
      "  DeprecationWarning)\n"
     ]
    }
   ],
   "source": [
    "from keras.models import Sequential\n",
    "from keras.layers import Dense, Activation\n",
    "from keras.wrappers.scikit_learn import KerasClassifier, KerasRegressor\n",
    "from sklearn.grid_search import GridSearchCV"
   ]
  },
  {
   "cell_type": "markdown",
   "metadata": {},
   "source": [
    "## Vinalla"
   ]
  },
  {
   "cell_type": "code",
   "execution_count": 49,
   "metadata": {},
   "outputs": [
    {
     "name": "stdout",
     "output_type": "stream",
     "text": [
      "Train on 50000 samples, validate on 10000 samples\n",
      "Epoch 1/60\n",
      "50000/50000 [==============================] - 4s 72us/step - loss: 0.5308 - acc: 0.8517 - val_loss: 0.2722 - val_acc: 0.9235\n",
      "Epoch 2/60\n",
      "50000/50000 [==============================] - 2s 35us/step - loss: 0.2393 - acc: 0.9310 - val_loss: 0.2158 - val_acc: 0.9410\n",
      "Epoch 3/60\n",
      "50000/50000 [==============================] - 2s 36us/step - loss: 0.1939 - acc: 0.9444 - val_loss: 0.1887 - val_acc: 0.9463\n",
      "Epoch 4/60\n",
      "50000/50000 [==============================] - 2s 39us/step - loss: 0.1670 - acc: 0.9508 - val_loss: 0.1766 - val_acc: 0.9518\n",
      "Epoch 5/60\n",
      "50000/50000 [==============================] - 2s 39us/step - loss: 0.1487 - acc: 0.9569 - val_loss: 0.1632 - val_acc: 0.9527\n",
      "Epoch 6/60\n",
      "50000/50000 [==============================] - 2s 41us/step - loss: 0.1350 - acc: 0.9597 - val_loss: 0.1523 - val_acc: 0.9560\n",
      "Epoch 7/60\n",
      "50000/50000 [==============================] - 2s 39us/step - loss: 0.1228 - acc: 0.9637 - val_loss: 0.1466 - val_acc: 0.9595\n",
      "Epoch 8/60\n",
      "50000/50000 [==============================] - 2s 40us/step - loss: 0.1132 - acc: 0.9663 - val_loss: 0.1384 - val_acc: 0.9602\n",
      "Epoch 9/60\n",
      "50000/50000 [==============================] - 2s 40us/step - loss: 0.1053 - acc: 0.9689 - val_loss: 0.1430 - val_acc: 0.9603\n",
      "Epoch 10/60\n",
      "50000/50000 [==============================] - 2s 39us/step - loss: 0.0951 - acc: 0.9713 - val_loss: 0.1290 - val_acc: 0.9644\n",
      "Epoch 11/60\n",
      "50000/50000 [==============================] - 2s 37us/step - loss: 0.0883 - acc: 0.9736 - val_loss: 0.1217 - val_acc: 0.9651\n",
      "Epoch 12/60\n",
      "50000/50000 [==============================] - 2s 36us/step - loss: 0.0827 - acc: 0.9748 - val_loss: 0.1238 - val_acc: 0.9659\n",
      "Epoch 13/60\n",
      "50000/50000 [==============================] - 2s 38us/step - loss: 0.0765 - acc: 0.9768 - val_loss: 0.1215 - val_acc: 0.9669\n",
      "Epoch 14/60\n",
      "50000/50000 [==============================] - 2s 38us/step - loss: 0.0708 - acc: 0.9788 - val_loss: 0.1179 - val_acc: 0.9674\n",
      "Epoch 15/60\n",
      "50000/50000 [==============================] - 2s 38us/step - loss: 0.0671 - acc: 0.9799 - val_loss: 0.1224 - val_acc: 0.9667\n",
      "Epoch 16/60\n",
      "50000/50000 [==============================] - 2s 37us/step - loss: 0.0630 - acc: 0.9807 - val_loss: 0.1202 - val_acc: 0.9666\n",
      "Epoch 17/60\n",
      "50000/50000 [==============================] - 2s 38us/step - loss: 0.0591 - acc: 0.9822 - val_loss: 0.1222 - val_acc: 0.9669\n",
      "Epoch 18/60\n",
      "50000/50000 [==============================] - 2s 46us/step - loss: 0.0560 - acc: 0.9829 - val_loss: 0.1181 - val_acc: 0.9677\n",
      "Epoch 19/60\n",
      "50000/50000 [==============================] - 2s 40us/step - loss: 0.0519 - acc: 0.9846 - val_loss: 0.1153 - val_acc: 0.9688\n",
      "Epoch 20/60\n",
      "50000/50000 [==============================] - 2s 38us/step - loss: 0.0497 - acc: 0.9845 - val_loss: 0.1178 - val_acc: 0.9690\n",
      "Epoch 21/60\n",
      "50000/50000 [==============================] - 2s 37us/step - loss: 0.0462 - acc: 0.9856 - val_loss: 0.1213 - val_acc: 0.9676\n",
      "Epoch 22/60\n",
      "50000/50000 [==============================] - 2s 39us/step - loss: 0.0450 - acc: 0.9860 - val_loss: 0.1198 - val_acc: 0.9690\n",
      "Epoch 23/60\n",
      "50000/50000 [==============================] - 2s 42us/step - loss: 0.0407 - acc: 0.9877 - val_loss: 0.1225 - val_acc: 0.9707\n",
      "Epoch 24/60\n",
      "50000/50000 [==============================] - 2s 40us/step - loss: 0.0399 - acc: 0.9882 - val_loss: 0.1363 - val_acc: 0.9658\n",
      "Epoch 25/60\n",
      "50000/50000 [==============================] - 2s 41us/step - loss: 0.0379 - acc: 0.9884 - val_loss: 0.1257 - val_acc: 0.9681\n",
      "Epoch 26/60\n",
      "50000/50000 [==============================] - 2s 39us/step - loss: 0.0348 - acc: 0.9892 - val_loss: 0.1240 - val_acc: 0.9698\n",
      "Epoch 27/60\n",
      "50000/50000 [==============================] - 2s 39us/step - loss: 0.0315 - acc: 0.9906 - val_loss: 0.1230 - val_acc: 0.9696\n",
      "Epoch 28/60\n",
      "50000/50000 [==============================] - 2s 45us/step - loss: 0.0313 - acc: 0.9910 - val_loss: 0.1278 - val_acc: 0.9690\n",
      "Epoch 29/60\n",
      "50000/50000 [==============================] - 2s 39us/step - loss: 0.0298 - acc: 0.9911 - val_loss: 0.1269 - val_acc: 0.9698\n",
      "Epoch 30/60\n",
      "50000/50000 [==============================] - 2s 38us/step - loss: 0.0268 - acc: 0.9919 - val_loss: 0.1330 - val_acc: 0.9679\n",
      "Epoch 31/60\n",
      "50000/50000 [==============================] - 2s 38us/step - loss: 0.0254 - acc: 0.9927 - val_loss: 0.1292 - val_acc: 0.9710\n",
      "Epoch 32/60\n",
      "50000/50000 [==============================] - 2s 41us/step - loss: 0.0261 - acc: 0.9919 - val_loss: 0.1344 - val_acc: 0.9692\n",
      "Epoch 33/60\n",
      "50000/50000 [==============================] - 2s 41us/step - loss: 0.0252 - acc: 0.9922 - val_loss: 0.1350 - val_acc: 0.9698\n",
      "Epoch 34/60\n",
      "50000/50000 [==============================] - 2s 41us/step - loss: 0.0209 - acc: 0.9941 - val_loss: 0.1327 - val_acc: 0.9694\n",
      "Epoch 35/60\n",
      "50000/50000 [==============================] - 2s 40us/step - loss: 0.0206 - acc: 0.9939 - val_loss: 0.1368 - val_acc: 0.9688\n",
      "Epoch 36/60\n",
      "50000/50000 [==============================] - 2s 42us/step - loss: 0.0182 - acc: 0.9952 - val_loss: 0.1441 - val_acc: 0.9680\n",
      "Epoch 37/60\n",
      "50000/50000 [==============================] - 2s 41us/step - loss: 0.0189 - acc: 0.9945 - val_loss: 0.1588 - val_acc: 0.9631\n",
      "Epoch 38/60\n",
      "50000/50000 [==============================] - 2s 39us/step - loss: 0.0184 - acc: 0.9944 - val_loss: 0.1450 - val_acc: 0.9687\n",
      "Epoch 39/60\n",
      "50000/50000 [==============================] - 2s 42us/step - loss: 0.0156 - acc: 0.9957 - val_loss: 0.1440 - val_acc: 0.9688\n",
      "Epoch 40/60\n",
      "50000/50000 [==============================] - 2s 48us/step - loss: 0.0155 - acc: 0.9958 - val_loss: 0.1528 - val_acc: 0.9668\n",
      "Epoch 41/60\n",
      "50000/50000 [==============================] - 2s 37us/step - loss: 0.0149 - acc: 0.9958 - val_loss: 0.1574 - val_acc: 0.9666\n",
      "Epoch 42/60\n",
      "50000/50000 [==============================] - 2s 42us/step - loss: 0.0143 - acc: 0.9957 - val_loss: 0.1568 - val_acc: 0.9656\n",
      "Epoch 43/60\n",
      "50000/50000 [==============================] - 2s 38us/step - loss: 0.0134 - acc: 0.9965 - val_loss: 0.1464 - val_acc: 0.9693\n",
      "Epoch 44/60\n",
      "50000/50000 [==============================] - 2s 38us/step - loss: 0.0127 - acc: 0.9967 - val_loss: 0.1602 - val_acc: 0.9663\n",
      "Epoch 45/60\n",
      "50000/50000 [==============================] - 2s 38us/step - loss: 0.0139 - acc: 0.9959 - val_loss: 0.1620 - val_acc: 0.9674\n",
      "Epoch 46/60\n",
      "50000/50000 [==============================] - 2s 39us/step - loss: 0.0108 - acc: 0.9971 - val_loss: 0.1602 - val_acc: 0.9691\n",
      "Epoch 47/60\n",
      "50000/50000 [==============================] - 2s 45us/step - loss: 0.0095 - acc: 0.9976 - val_loss: 0.1642 - val_acc: 0.9673\n",
      "Epoch 48/60\n",
      "50000/50000 [==============================] - 2s 40us/step - loss: 0.0098 - acc: 0.9974 - val_loss: 0.1689 - val_acc: 0.9682\n",
      "Epoch 49/60\n",
      "50000/50000 [==============================] - 2s 40us/step - loss: 0.0133 - acc: 0.9960 - val_loss: 0.1716 - val_acc: 0.9664\n",
      "Epoch 50/60\n",
      "50000/50000 [==============================] - 2s 44us/step - loss: 0.0085 - acc: 0.9978 - val_loss: 0.1730 - val_acc: 0.9669\n",
      "Epoch 51/60\n",
      "50000/50000 [==============================] - 2s 43us/step - loss: 0.0077 - acc: 0.9981 - val_loss: 0.1753 - val_acc: 0.9668\n",
      "Epoch 52/60\n",
      "50000/50000 [==============================] - 2s 37us/step - loss: 0.0091 - acc: 0.9973 - val_loss: 0.1737 - val_acc: 0.9654\n",
      "Epoch 53/60\n",
      "50000/50000 [==============================] - 2s 38us/step - loss: 0.0096 - acc: 0.9974 - val_loss: 0.1783 - val_acc: 0.9655\n",
      "Epoch 54/60\n",
      "50000/50000 [==============================] - 2s 41us/step - loss: 0.0114 - acc: 0.9963 - val_loss: 0.1762 - val_acc: 0.9669\n",
      "Epoch 55/60\n",
      "50000/50000 [==============================] - 2s 43us/step - loss: 0.0068 - acc: 0.9982 - val_loss: 0.1765 - val_acc: 0.9663\n",
      "Epoch 56/60\n",
      "50000/50000 [==============================] - 2s 39us/step - loss: 0.0050 - acc: 0.9989 - val_loss: 0.1785 - val_acc: 0.9681\n",
      "Epoch 57/60\n",
      "50000/50000 [==============================] - 2s 38us/step - loss: 0.0082 - acc: 0.9977 - val_loss: 0.1824 - val_acc: 0.9668\n",
      "Epoch 58/60\n",
      "50000/50000 [==============================] - 2s 38us/step - loss: 0.0070 - acc: 0.9982 - val_loss: 0.1878 - val_acc: 0.9665\n",
      "Epoch 59/60\n",
      "50000/50000 [==============================] - 2s 37us/step - loss: 0.0083 - acc: 0.9977 - val_loss: 0.1960 - val_acc: 0.9652\n",
      "Epoch 60/60\n"
     ]
    },
    {
     "name": "stdout",
     "output_type": "stream",
     "text": [
      "50000/50000 [==============================] - 2s 36us/step - loss: 0.0079 - acc: 0.9974 - val_loss: 0.1904 - val_acc: 0.9670\n"
     ]
    }
   ],
   "source": [
    "#### Best Vinalla ###\n",
    "model = Sequential([\n",
    "            Dense(32,input_shape=(784,)),\n",
    "            Activation('relu'),\n",
    "            Dense(32),\n",
    "            Activation('relu'),\n",
    "            Dense(10),\n",
    "            Activation('softmax')])\n",
    "model.compile(optimizer = 'adam', loss=\"categorical_crossentropy\",metrics = ['accuracy'])\n",
    "history_callback = model.fit(X_train, y_train, batch_size=128,\n",
    "                             epochs=60, verbose=1, validation_data=(X_val,y_val))"
   ]
  },
  {
   "cell_type": "code",
   "execution_count": 55,
   "metadata": {},
   "outputs": [
    {
     "name": "stdout",
     "output_type": "stream",
     "text": [
      "loss function on validation set: 0.19038974158683997\n",
      "accuracy function on validation set: 0.967\n"
     ]
    }
   ],
   "source": [
    "score = model.evaluate(X_val, y_val, verbose=0)\n",
    "print(\"loss function on validation set: {}\".format(score[0]))\n",
    "print(\"accuracy function on validation set: {}\".format(score[1]))"
   ]
  },
  {
   "cell_type": "code",
   "execution_count": 51,
   "metadata": {},
   "outputs": [
    {
     "name": "stdout",
     "output_type": "stream",
     "text": [
      "_________________________________________________________________\n",
      "Layer (type)                 Output Shape              Param #   \n",
      "=================================================================\n",
      "dense_115 (Dense)            (None, 32)                25120     \n",
      "_________________________________________________________________\n",
      "activation_115 (Activation)  (None, 32)                0         \n",
      "_________________________________________________________________\n",
      "dense_116 (Dense)            (None, 32)                1056      \n",
      "_________________________________________________________________\n",
      "activation_116 (Activation)  (None, 32)                0         \n",
      "_________________________________________________________________\n",
      "dense_117 (Dense)            (None, 10)                330       \n",
      "_________________________________________________________________\n",
      "activation_117 (Activation)  (None, 10)                0         \n",
      "=================================================================\n",
      "Total params: 26,506\n",
      "Trainable params: 26,506\n",
      "Non-trainable params: 0\n",
      "_________________________________________________________________\n"
     ]
    }
   ],
   "source": [
    "model.summary()"
   ]
  },
  {
   "cell_type": "code",
   "execution_count": 52,
   "metadata": {},
   "outputs": [
    {
     "data": {
      "text/plain": [
       "Text(0,0.5,'loss')"
      ]
     },
     "execution_count": 52,
     "metadata": {},
     "output_type": "execute_result"
    },
    {
     "data": {
      "image/png": "[encoded data removed]",
      "text/plain": [
       "<matplotlib.figure.Figure at 0x1a58ad2b00>"
      ]
     },
     "metadata": {},
     "output_type": "display_data"
    }
   ],
   "source": [
    "import pandas as pd\n",
    "import matplotlib.pyplot as plt\n",
    "df = pd.DataFrame(history_callback.history)\n",
    "df[['acc', 'val_acc']].plot()\n",
    "plt.ylabel(\"accuracy\")\n",
    "df[['loss', 'val_loss']].plot(linestyle='--', ax=plt.twinx())\n",
    "plt.ylabel(\"loss\")"
   ]
  },
  {
   "cell_type": "markdown",
   "metadata": {},
   "source": [
    "In the learning plot of vinalla model, notice that though train loss function is decreasing all the time, we have validation loss increasing after 20 epoch. Although our val_accuracy almost stays the same, the loss function of validation indicates an evidence of overfit."
   ]
  },
  {
   "cell_type": "markdown",
   "metadata": {},
   "source": [
    "## Drop Out"
   ]
  },
  {
   "cell_type": "code",
   "execution_count": 65,
   "metadata": {},
   "outputs": [
    {
     "name": "stdout",
     "output_type": "stream",
     "text": [
      "Train on 60000 samples, validate on 10000 samples\n",
      "Epoch 1/10\n",
      "60000/60000 [==============================] - 5s 87us/step - loss: 1.5918 - acc: 0.4206 - val_loss: 0.5316 - val_acc: 0.9010\n",
      "Epoch 2/10\n",
      "60000/60000 [==============================] - 3s 50us/step - loss: 1.2991 - acc: 0.5037 - val_loss: 0.3757 - val_acc: 0.9209\n",
      "Epoch 3/10\n",
      "60000/60000 [==============================] - 3s 43us/step - loss: 1.2345 - acc: 0.5208 - val_loss: 0.3157 - val_acc: 0.9289\n",
      "Epoch 4/10\n",
      "60000/60000 [==============================] - 3s 46us/step - loss: 1.2157 - acc: 0.5256 - val_loss: 0.3089 - val_acc: 0.9301\n",
      "Epoch 5/10\n",
      "60000/60000 [==============================] - 3s 51us/step - loss: 1.1958 - acc: 0.5255 - val_loss: 0.2765 - val_acc: 0.9354\n",
      "Epoch 6/10\n",
      "60000/60000 [==============================] - 3s 49us/step - loss: 1.1803 - acc: 0.5300 - val_loss: 0.2901 - val_acc: 0.9353\n",
      "Epoch 7/10\n",
      "60000/60000 [==============================] - 3s 44us/step - loss: 1.1813 - acc: 0.5293 - val_loss: 0.2539 - val_acc: 0.9396\n",
      "Epoch 8/10\n",
      "60000/60000 [==============================] - 3s 45us/step - loss: 1.1701 - acc: 0.5314 - val_loss: 0.2528 - val_acc: 0.9411\n",
      "Epoch 9/10\n",
      "60000/60000 [==============================] - 3s 46us/step - loss: 1.1724 - acc: 0.5300 - val_loss: 0.2472 - val_acc: 0.9405\n",
      "Epoch 10/10\n",
      "60000/60000 [==============================] - 3s 47us/step - loss: 1.1598 - acc: 0.5353 - val_loss: 0.2464 - val_acc: 0.9434\n"
     ]
    }
   ],
   "source": [
    "from keras.layers import Dropout\n",
    "model = Sequential([\n",
    "            Dense(32,input_shape=(784,)),\n",
    "            Activation('relu'),\n",
    "            Dropout(0.5),\n",
    "            Dense(32),\n",
    "            Activation('relu'),\n",
    "            Dense(10),\n",
    "            Dropout(0.5),\n",
    "            Activation('softmax')])\n",
    "model.compile(optimizer = 'adam', loss=\"categorical_crossentropy\",metrics = ['accuracy'])\n",
    "history_callback = model.fit(X_train, y_train, batch_size=128,\n",
    "                             epochs=10, verbose=1, validation_data=(X_val,y_val))"
   ]
  },
  {
   "cell_type": "code",
   "execution_count": 66,
   "metadata": {},
   "outputs": [
    {
     "name": "stdout",
     "output_type": "stream",
     "text": [
      "loss function on validation set: 0.24644227361679077\n",
      "accuracy function on validation set: 0.9434\n"
     ]
    }
   ],
   "source": [
    "score = model.evaluate(X_val, y_val, verbose=0)\n",
    "print(\"loss function on validation set: {}\".format(score[0]))\n",
    "print(\"accuracy function on validation set: {}\".format(score[1]))"
   ]
  },
  {
   "cell_type": "code",
   "execution_count": 67,
   "metadata": {},
   "outputs": [
    {
     "name": "stdout",
     "output_type": "stream",
     "text": [
      "_________________________________________________________________\n",
      "Layer (type)                 Output Shape              Param #   \n",
      "=================================================================\n",
      "dense_126 (Dense)            (None, 32)                25120     \n",
      "_________________________________________________________________\n",
      "activation_126 (Activation)  (None, 32)                0         \n",
      "_________________________________________________________________\n",
      "dropout_3 (Dropout)          (None, 32)                0         \n",
      "_________________________________________________________________\n",
      "dense_127 (Dense)            (None, 32)                1056      \n",
      "_________________________________________________________________\n",
      "activation_127 (Activation)  (None, 32)                0         \n",
      "_________________________________________________________________\n",
      "dense_128 (Dense)            (None, 10)                330       \n",
      "_________________________________________________________________\n",
      "dropout_4 (Dropout)          (None, 10)                0         \n",
      "_________________________________________________________________\n",
      "activation_128 (Activation)  (None, 10)                0         \n",
      "=================================================================\n",
      "Total params: 26,506\n",
      "Trainable params: 26,506\n",
      "Non-trainable params: 0\n",
      "_________________________________________________________________\n"
     ]
    }
   ],
   "source": [
    "model.summary()"
   ]
  },
  {
   "cell_type": "code",
   "execution_count": 68,
   "metadata": {},
   "outputs": [
    {
     "data": {
      "text/plain": [
       "Text(0,0.5,'loss')"
      ]
     },
     "execution_count": 68,
     "metadata": {},
     "output_type": "execute_result"
    },
    {
     "data": {
      "image/png": "[encoded data removed]",
      "text/plain": [
       "<matplotlib.figure.Figure at 0x1a588eff60>"
      ]
     },
     "metadata": {},
     "output_type": "display_data"
    }
   ],
   "source": [
    "import pandas as pd\n",
    "import matplotlib.pyplot as plt\n",
    "df = pd.DataFrame(history_callback.history)\n",
    "df[['acc', 'val_acc']].plot()\n",
    "plt.ylabel(\"accuracy\")\n",
    "df[['loss', 'val_loss']].plot(linestyle='--', ax=plt.twinx())\n",
    "plt.ylabel(\"loss\")"
   ]
  },
  {
   "cell_type": "markdown",
   "metadata": {},
   "source": [
    "From the learning curve, we know that validation accuracy have the increasing trend alone with train accuracy, unlike the learning curve in vinalla model which is prone to overfitting.\n",
    "\n",
    "Since validation score for vinalla (0.967) is greater than score of drop out (0.9465),\n",
    "we choose train the vinalla model on entire train dataset to evaluate the final test score."
   ]
  },
  {
   "cell_type": "code",
   "execution_count": 69,
   "metadata": {},
   "outputs": [
    {
     "name": "stdout",
     "output_type": "stream",
     "text": [
      "60000 train samples\n",
      "10000 test samples\n",
      "Train on 54000 samples, validate on 6000 samples\n",
      "Epoch 1/60\n",
      "54000/54000 [==============================] - 4s 80us/step - loss: 0.5216 - acc: 0.8532 - val_loss: 0.1939 - val_acc: 0.9445\n",
      "Epoch 2/60\n",
      "54000/54000 [==============================] - 2s 46us/step - loss: 0.2154 - acc: 0.9381 - val_loss: 0.1520 - val_acc: 0.9557\n",
      "Epoch 3/60\n",
      "54000/54000 [==============================] - 2s 46us/step - loss: 0.1719 - acc: 0.9504 - val_loss: 0.1382 - val_acc: 0.9610\n",
      "Epoch 4/60\n",
      "54000/54000 [==============================] - 2s 38us/step - loss: 0.1456 - acc: 0.9572 - val_loss: 0.1259 - val_acc: 0.9625\n",
      "Epoch 5/60\n",
      "54000/54000 [==============================] - 2s 38us/step - loss: 0.1281 - acc: 0.9630 - val_loss: 0.1161 - val_acc: 0.9655\n",
      "Epoch 6/60\n",
      "54000/54000 [==============================] - 2s 39us/step - loss: 0.1142 - acc: 0.9665 - val_loss: 0.1163 - val_acc: 0.9668\n",
      "Epoch 7/60\n",
      "54000/54000 [==============================] - 2s 39us/step - loss: 0.1043 - acc: 0.9682 - val_loss: 0.1069 - val_acc: 0.9687\n",
      "Epoch 8/60\n",
      "54000/54000 [==============================] - 2s 41us/step - loss: 0.0948 - acc: 0.9717 - val_loss: 0.1029 - val_acc: 0.9690\n",
      "Epoch 9/60\n",
      "54000/54000 [==============================] - 2s 38us/step - loss: 0.0871 - acc: 0.9737 - val_loss: 0.1061 - val_acc: 0.9690\n",
      "Epoch 10/60\n",
      "54000/54000 [==============================] - 2s 39us/step - loss: 0.0812 - acc: 0.9756 - val_loss: 0.1019 - val_acc: 0.9675\n",
      "Epoch 11/60\n",
      "54000/54000 [==============================] - 2s 38us/step - loss: 0.0753 - acc: 0.9768 - val_loss: 0.0996 - val_acc: 0.9705\n",
      "Epoch 12/60\n",
      "54000/54000 [==============================] - 2s 42us/step - loss: 0.0716 - acc: 0.9785 - val_loss: 0.0975 - val_acc: 0.9702\n",
      "Epoch 13/60\n",
      "54000/54000 [==============================] - 2s 39us/step - loss: 0.0671 - acc: 0.9799 - val_loss: 0.1000 - val_acc: 0.9687\n",
      "Epoch 14/60\n",
      "54000/54000 [==============================] - 2s 39us/step - loss: 0.0623 - acc: 0.9813 - val_loss: 0.0996 - val_acc: 0.9695\n",
      "Epoch 15/60\n",
      "54000/54000 [==============================] - 2s 42us/step - loss: 0.0593 - acc: 0.9821 - val_loss: 0.1040 - val_acc: 0.9687\n",
      "Epoch 16/60\n",
      "54000/54000 [==============================] - 2s 42us/step - loss: 0.0559 - acc: 0.9833 - val_loss: 0.1005 - val_acc: 0.9720\n",
      "Epoch 17/60\n",
      "54000/54000 [==============================] - 2s 41us/step - loss: 0.0541 - acc: 0.9835 - val_loss: 0.0988 - val_acc: 0.9727\n",
      "Epoch 18/60\n",
      "54000/54000 [==============================] - 2s 43us/step - loss: 0.0490 - acc: 0.9854 - val_loss: 0.1002 - val_acc: 0.9718\n",
      "Epoch 19/60\n",
      "54000/54000 [==============================] - 2s 40us/step - loss: 0.0459 - acc: 0.9863 - val_loss: 0.1083 - val_acc: 0.9668\n",
      "Epoch 20/60\n",
      "54000/54000 [==============================] - 2s 40us/step - loss: 0.0436 - acc: 0.9869 - val_loss: 0.1026 - val_acc: 0.9715\n",
      "Epoch 21/60\n",
      "54000/54000 [==============================] - 2s 41us/step - loss: 0.0407 - acc: 0.9878 - val_loss: 0.1055 - val_acc: 0.9710\n",
      "Epoch 22/60\n",
      "54000/54000 [==============================] - 2s 41us/step - loss: 0.0397 - acc: 0.9881 - val_loss: 0.1076 - val_acc: 0.9710\n",
      "Epoch 23/60\n",
      "54000/54000 [==============================] - 2s 41us/step - loss: 0.0367 - acc: 0.9890 - val_loss: 0.1116 - val_acc: 0.9693\n",
      "Epoch 24/60\n",
      "54000/54000 [==============================] - 2s 42us/step - loss: 0.0361 - acc: 0.9888 - val_loss: 0.1087 - val_acc: 0.9693\n",
      "Epoch 25/60\n",
      "54000/54000 [==============================] - 2s 39us/step - loss: 0.0340 - acc: 0.9900 - val_loss: 0.1178 - val_acc: 0.9687\n",
      "Epoch 26/60\n",
      "54000/54000 [==============================] - 2s 40us/step - loss: 0.0318 - acc: 0.9907 - val_loss: 0.1144 - val_acc: 0.9708\n",
      "Epoch 27/60\n",
      "54000/54000 [==============================] - 2s 41us/step - loss: 0.0307 - acc: 0.9906 - val_loss: 0.1229 - val_acc: 0.9693\n",
      "Epoch 28/60\n",
      "54000/54000 [==============================] - 2s 38us/step - loss: 0.0297 - acc: 0.9914 - val_loss: 0.1098 - val_acc: 0.9713\n",
      "Epoch 29/60\n",
      "54000/54000 [==============================] - 2s 40us/step - loss: 0.0265 - acc: 0.9922 - val_loss: 0.1180 - val_acc: 0.9697\n",
      "Epoch 30/60\n",
      "54000/54000 [==============================] - 2s 38us/step - loss: 0.0273 - acc: 0.9919 - val_loss: 0.1275 - val_acc: 0.9665\n",
      "Epoch 31/60\n",
      "54000/54000 [==============================] - 2s 37us/step - loss: 0.0249 - acc: 0.9928 - val_loss: 0.1163 - val_acc: 0.9710\n",
      "Epoch 32/60\n",
      "54000/54000 [==============================] - 2s 39us/step - loss: 0.0251 - acc: 0.9928 - val_loss: 0.1219 - val_acc: 0.9685\n",
      "Epoch 33/60\n",
      "54000/54000 [==============================] - 2s 43us/step - loss: 0.0235 - acc: 0.9929 - val_loss: 0.1213 - val_acc: 0.9697\n",
      "Epoch 34/60\n",
      "54000/54000 [==============================] - 2s 37us/step - loss: 0.0213 - acc: 0.9939 - val_loss: 0.1234 - val_acc: 0.9698\n",
      "Epoch 35/60\n",
      "54000/54000 [==============================] - 2s 36us/step - loss: 0.0218 - acc: 0.9935 - val_loss: 0.1294 - val_acc: 0.9705\n",
      "Epoch 36/60\n",
      "54000/54000 [==============================] - 2s 36us/step - loss: 0.0186 - acc: 0.9949 - val_loss: 0.1287 - val_acc: 0.9683\n",
      "Epoch 37/60\n",
      "54000/54000 [==============================] - 2s 43us/step - loss: 0.0185 - acc: 0.9944 - val_loss: 0.1286 - val_acc: 0.9695\n",
      "Epoch 38/60\n",
      "54000/54000 [==============================] - 2s 44us/step - loss: 0.0170 - acc: 0.9954 - val_loss: 0.1340 - val_acc: 0.9702\n",
      "Epoch 39/60\n",
      "54000/54000 [==============================] - 2s 37us/step - loss: 0.0174 - acc: 0.9949 - val_loss: 0.1351 - val_acc: 0.9692\n",
      "Epoch 40/60\n",
      "54000/54000 [==============================] - 2s 36us/step - loss: 0.0162 - acc: 0.9953 - val_loss: 0.1318 - val_acc: 0.9727\n",
      "Epoch 41/60\n",
      "54000/54000 [==============================] - 2s 36us/step - loss: 0.0157 - acc: 0.9957 - val_loss: 0.1369 - val_acc: 0.9680\n",
      "Epoch 42/60\n",
      "54000/54000 [==============================] - 2s 39us/step - loss: 0.0140 - acc: 0.9961 - val_loss: 0.1379 - val_acc: 0.9712\n",
      "Epoch 43/60\n",
      "54000/54000 [==============================] - 2s 38us/step - loss: 0.0139 - acc: 0.9963 - val_loss: 0.1399 - val_acc: 0.9703\n",
      "Epoch 44/60\n",
      "54000/54000 [==============================] - 2s 37us/step - loss: 0.0146 - acc: 0.9959 - val_loss: 0.1421 - val_acc: 0.9720\n",
      "Epoch 45/60\n",
      "54000/54000 [==============================] - 2s 36us/step - loss: 0.0131 - acc: 0.9961 - val_loss: 0.1499 - val_acc: 0.9712\n",
      "Epoch 46/60\n",
      "54000/54000 [==============================] - 2s 45us/step - loss: 0.0131 - acc: 0.9960 - val_loss: 0.1487 - val_acc: 0.9705\n",
      "Epoch 47/60\n",
      "54000/54000 [==============================] - 2s 42us/step - loss: 0.0144 - acc: 0.9958 - val_loss: 0.1505 - val_acc: 0.9712\n",
      "Epoch 48/60\n",
      "54000/54000 [==============================] - 2s 39us/step - loss: 0.0110 - acc: 0.9971 - val_loss: 0.1527 - val_acc: 0.9698\n",
      "Epoch 49/60\n",
      "54000/54000 [==============================] - 2s 40us/step - loss: 0.0102 - acc: 0.9974 - val_loss: 0.1546 - val_acc: 0.9693\n",
      "Epoch 50/60\n",
      "54000/54000 [==============================] - 2s 36us/step - loss: 0.0126 - acc: 0.9962 - val_loss: 0.1593 - val_acc: 0.9705\n",
      "Epoch 51/60\n",
      "54000/54000 [==============================] - 3s 47us/step - loss: 0.0114 - acc: 0.9966 - val_loss: 0.1599 - val_acc: 0.9693\n",
      "Epoch 52/60\n",
      "54000/54000 [==============================] - 2s 44us/step - loss: 0.0089 - acc: 0.9976 - val_loss: 0.1694 - val_acc: 0.9688\n",
      "Epoch 53/60\n",
      "54000/54000 [==============================] - 2s 45us/step - loss: 0.0093 - acc: 0.9974 - val_loss: 0.1587 - val_acc: 0.9703\n",
      "Epoch 54/60\n",
      "54000/54000 [==============================] - 2s 40us/step - loss: 0.0085 - acc: 0.9978 - val_loss: 0.1627 - val_acc: 0.9692\n",
      "Epoch 55/60\n",
      "54000/54000 [==============================] - 2s 46us/step - loss: 0.0085 - acc: 0.9978 - val_loss: 0.1626 - val_acc: 0.9703\n",
      "Epoch 56/60\n",
      "54000/54000 [==============================] - 2s 36us/step - loss: 0.0069 - acc: 0.9984 - val_loss: 0.1605 - val_acc: 0.9722\n",
      "Epoch 57/60\n",
      "54000/54000 [==============================] - 2s 36us/step - loss: 0.0097 - acc: 0.9973 - val_loss: 0.1745 - val_acc: 0.9688\n",
      "Epoch 58/60\n",
      "54000/54000 [==============================] - 2s 36us/step - loss: 0.0121 - acc: 0.9962 - val_loss: 0.1734 - val_acc: 0.9702\n",
      "Epoch 59/60\n",
      "54000/54000 [==============================] - 2s 35us/step - loss: 0.0075 - acc: 0.9978 - val_loss: 0.1694 - val_acc: 0.9720\n"
     ]
    },
    {
     "name": "stdout",
     "output_type": "stream",
     "text": [
      "Epoch 60/60\n",
      "54000/54000 [==============================] - 2s 37us/step - loss: 0.0087 - acc: 0.9974 - val_loss: 0.1722 - val_acc: 0.9693\n"
     ]
    }
   ],
   "source": [
    "##[??] select the better model run on entire train dataset for evaluation\n",
    "# reload the data \n",
    "(X_train, y_train), (X_test, y_test) = mnist.load_data()\n",
    "X_train = X_train.reshape(60000, 784)\n",
    "X_test = X_test.reshape(10000, 784)\n",
    "X_train = X_train.astype('float32')\n",
    "X_test = X_test.astype('float32')\n",
    "X_train /= 255\n",
    "X_test /= 255\n",
    "print(X_train.shape[0], 'train samples')\n",
    "print(X_test.shape[0], 'test samples')\n",
    "\n",
    "num_classes = 10\n",
    "# convert class vectors to binary class matrices\n",
    "y_train = keras.utils.to_categorical(y_train, num_classes)\n",
    "y_test = keras.utils.to_categorical(y_test, num_classes)\n",
    "\n",
    "model = Sequential([\n",
    "            Dense(32,input_shape=(784,)),\n",
    "            Activation('relu'),\n",
    "            Dense(32),\n",
    "            Activation('relu'),\n",
    "            Dense(10),\n",
    "            Activation('softmax')])\n",
    "model.compile(optimizer = 'adam', loss=\"categorical_crossentropy\",metrics = ['accuracy'])\n",
    "history_callback = model.fit(X_train, y_train, batch_size=128,\n",
    "                             epochs=60, verbose=1, validation_split=.1)\n"
   ]
  },
  {
   "cell_type": "code",
   "execution_count": 70,
   "metadata": {},
   "outputs": [
    {
     "name": "stdout",
     "output_type": "stream",
     "text": [
      "loss function on validation set: 0.18338083045011436\n",
      "accuracy function on validation set: 0.9675\n"
     ]
    }
   ],
   "source": [
    "score = model.evaluate(X_test, y_test, verbose=0)\n",
    "print(\"loss function on validation set: {}\".format(score[0]))\n",
    "print(\"accuracy function on validation set: {}\".format(score[1]))"
   ]
  },
  {
   "cell_type": "code",
   "execution_count": 71,
   "metadata": {},
   "outputs": [
    {
     "data": {
      "text/plain": [
       "Text(0,0.5,'loss')"
      ]
     },
     "execution_count": 71,
     "metadata": {},
     "output_type": "execute_result"
    },
    {
     "data": {
      "image/png": "[encoded data removed]",
      "text/plain": [
       "<matplotlib.figure.Figure at 0x1a67ffe860>"
      ]
     },
     "metadata": {},
     "output_type": "display_data"
    }
   ],
   "source": [
    "import pandas as pd\n",
    "import matplotlib.pyplot as plt\n",
    "df = pd.DataFrame(history_callback.history)\n",
    "df[['acc', 'val_acc']].plot()\n",
    "plt.ylabel(\"accuracy\")\n",
    "df[['loss', 'val_loss']].plot(linestyle='--', ax=plt.twinx())\n",
    "plt.ylabel(\"loss\")"
   ]
  },
  {
   "cell_type": "markdown",
   "metadata": {},
   "source": [
    "accuracy function on validation set is 0.9675, similar with validation dataset heldout. The plot shows the overall trend of accuracy increasing with loss function decreasing. "
   ]
  }
 ],
 "metadata": {
  "kernelspec": {
   "display_name": "Python 3",
   "language": "python",
   "name": "python3"
  },
  "language_info": {
   "codemirror_mode": {
    "name": "ipython",
    "version": 3
   },
   "file_extension": ".py",
   "mimetype": "text/x-python",
   "name": "python",
   "nbconvert_exporter": "python",
   "pygments_lexer": "ipython3",
   "version": "3.5.4"
  }
 },
 "nbformat": 4,
 "nbformat_minor": 2
}
