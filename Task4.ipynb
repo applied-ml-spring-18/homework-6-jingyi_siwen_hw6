{
 "cells": [
  {
   "cell_type": "code",
   "execution_count": 1,
   "metadata": {},
   "outputs": [],
   "source": [
    "import pandas as pd\n",
    "import numpy as np"
   ]
  },
  {
   "cell_type": "markdown",
   "metadata": {},
   "source": [
    "### Read in and Preprocess image data"
   ]
  },
  {
   "cell_type": "code",
   "execution_count": 20,
   "metadata": {},
   "outputs": [
    {
     "data": {
      "text/html": [
       "<div>\n",
       "<style scoped>\n",
       "    .dataframe tbody tr th:only-of-type {\n",
       "        vertical-align: middle;\n",
       "    }\n",
       "\n",
       "    .dataframe tbody tr th {\n",
       "        vertical-align: top;\n",
       "    }\n",
       "\n",
       "    .dataframe thead th {\n",
       "        text-align: right;\n",
       "    }\n",
       "</style>\n",
       "<table border=\"1\" class=\"dataframe\">\n",
       "  <thead>\n",
       "    <tr style=\"text-align: right;\">\n",
       "      <th></th>\n",
       "      <th>Image</th>\n",
       "      <th>Class_ID</th>\n",
       "      <th>Species</th>\n",
       "      <th>Breed</th>\n",
       "    </tr>\n",
       "  </thead>\n",
       "  <tbody>\n",
       "    <tr>\n",
       "      <th>0</th>\n",
       "      <td>Abyssinian_100</td>\n",
       "      <td>1</td>\n",
       "      <td>1</td>\n",
       "      <td>1</td>\n",
       "    </tr>\n",
       "    <tr>\n",
       "      <th>1</th>\n",
       "      <td>Abyssinian_101</td>\n",
       "      <td>1</td>\n",
       "      <td>1</td>\n",
       "      <td>1</td>\n",
       "    </tr>\n",
       "    <tr>\n",
       "      <th>2</th>\n",
       "      <td>Abyssinian_102</td>\n",
       "      <td>1</td>\n",
       "      <td>1</td>\n",
       "      <td>1</td>\n",
       "    </tr>\n",
       "    <tr>\n",
       "      <th>3</th>\n",
       "      <td>Abyssinian_103</td>\n",
       "      <td>1</td>\n",
       "      <td>1</td>\n",
       "      <td>1</td>\n",
       "    </tr>\n",
       "    <tr>\n",
       "      <th>4</th>\n",
       "      <td>Abyssinian_104</td>\n",
       "      <td>1</td>\n",
       "      <td>1</td>\n",
       "      <td>1</td>\n",
       "    </tr>\n",
       "  </tbody>\n",
       "</table>\n",
       "</div>"
      ],
      "text/plain": [
       "            Image  Class_ID  Species  Breed\n",
       "0  Abyssinian_100         1        1      1\n",
       "1  Abyssinian_101         1        1      1\n",
       "2  Abyssinian_102         1        1      1\n",
       "3  Abyssinian_103         1        1      1\n",
       "4  Abyssinian_104         1        1      1"
      ]
     },
     "execution_count": 20,
     "metadata": {},
     "output_type": "execute_result"
    }
   ],
   "source": [
    "listdf = pd.read_csv('annotations/list.txt',skiprows = 6, sep = ' ', \n",
    "                     header = None, names = ['Image','Class_ID','Species','Breed'])\n",
    "listdf.head()"
   ]
  },
  {
   "cell_type": "code",
   "execution_count": 83,
   "metadata": {},
   "outputs": [
    {
     "data": {
      "text/plain": [
       "(7349, 4)"
      ]
     },
     "execution_count": 83,
     "metadata": {},
     "output_type": "execute_result"
    }
   ],
   "source": [
    "listdf.shape"
   ]
  },
  {
   "cell_type": "code",
   "execution_count": 106,
   "metadata": {},
   "outputs": [],
   "source": [
    "from PIL import Image\n",
    "from keras.preprocessing import image\n",
    "\n",
    "labels = listdf['Class_ID'].values\n",
    "image_names = listdf['Image']\n",
    "X = []\n",
    "for name in image_names:\n",
    "    img = Image.open('images/'+name+'.jpg').resize((224,224))\n",
    "    if img.mode != 'RGB':\n",
    "            img = img.convert('RGB')\n",
    "    x = image.img_to_array(img)\n",
    "    X.append(x)"
   ]
  },
  {
   "cell_type": "code",
   "execution_count": 107,
   "metadata": {},
   "outputs": [],
   "source": [
    "X = np.array(X)"
   ]
  },
  {
   "cell_type": "markdown",
   "metadata": {},
   "source": [
    "### Feature extraction using MobileNet"
   ]
  },
  {
   "cell_type": "code",
   "execution_count": 109,
   "metadata": {},
   "outputs": [
    {
     "name": "stdout",
     "output_type": "stream",
     "text": [
      "(7349, 224, 224, 3)\n",
      "(7349, 7, 7, 1024)\n"
     ]
    }
   ],
   "source": [
    "#MobileNet\n",
    "from keras.applications.mobilenet import MobileNet\n",
    "from keras.applications.mobilenet import preprocess_input\n",
    "# load MobileNet\n",
    "model = MobileNet(include_top=False, weights='imagenet', input_shape = (224,224,3))\n",
    "# preprocessing for MobileNet\n",
    "X_pre = preprocess_input(X)\n",
    "features = model.predict(X_pre)\n",
    "print(X.shape)\n",
    "print(features.shape)\n",
    "features_ = features.reshape(X.shape[0], -1)\n",
    "Xdf = pd.DataFrame(data = features_)\n",
    "Xdf.to_csv('features.csv',index = False)"
   ]
  },
  {
   "cell_type": "code",
   "execution_count": null,
   "metadata": {},
   "outputs": [],
   "source": [
    "#VGG16\n",
    "# from keras.applications.vgg16 import VGG16\n",
    "# from keras.applications.vgg16 import preprocess_input\n",
    "# # load VGG16\n",
    "# model = VGG16(include_top=False, weights='imagenet')\n",
    "# # preprocessing for VGG16\n",
    "# X_pre = preprocess_input(X)\n",
    "# features = model.predict(X_pre)\n",
    "# print(X.shape)\n",
    "# print(features.shape)\n",
    "# features_ = features.reshape(X.shape[0], -1)\n",
    "# Xdf = pd.DataFrame(data = features_)\n",
    "# Xdf.to_csv('features.csv',index = False)"
   ]
  },
  {
   "cell_type": "markdown",
   "metadata": {},
   "source": [
    "#### After feature extraction with Mobilenet, we got a feature matrix with size (7349, 7, 7, 1024) before reshaping."
   ]
  },
  {
   "cell_type": "markdown",
   "metadata": {},
   "source": [
    "### Train LinearSVC and MLP models"
   ]
  },
  {
   "cell_type": "code",
   "execution_count": 112,
   "metadata": {},
   "outputs": [],
   "source": [
    "X = pd.read_csv('features.csv').values\n",
    "y = labels"
   ]
  },
  {
   "cell_type": "code",
   "execution_count": 121,
   "metadata": {},
   "outputs": [],
   "source": [
    "from sklearn.model_selection import train_test_split\n",
    "X_train, X_test, y_train, y_test = train_test_split(X, y, stratify = y)"
   ]
  },
  {
   "cell_type": "code",
   "execution_count": 124,
   "metadata": {},
   "outputs": [
    {
     "name": "stdout",
     "output_type": "stream",
     "text": [
      "cross_val_score: 0.881868017996\n",
      "test_score: 0.882480957563\n"
     ]
    },
    {
     "data": {
      "text/plain": [
       "array([[46,  1,  0, ...,  0,  0,  0],\n",
       "       [ 0, 40,  3, ...,  2,  0,  0],\n",
       "       [ 0,  3, 34, ...,  6,  0,  0],\n",
       "       ..., \n",
       "       [ 0,  3,  2, ..., 35,  0,  0],\n",
       "       [ 0,  0,  0, ...,  0, 47,  0],\n",
       "       [ 0,  0,  0, ...,  0,  1, 42]])"
      ]
     },
     "execution_count": 124,
     "metadata": {},
     "output_type": "execute_result"
    }
   ],
   "source": [
    "from sklearn.svm import LinearSVC\n",
    "svc = LinearSVC()\n",
    "cv_svc = cross_val_score(svc, X_train, y_train, cv=5)\n",
    "svc.fit(X_train, y_train)\n",
    "print('cross_val_score: '+str(cv_svc.mean()))\n",
    "print('test_score: '+str(svc.score(X_test, y_test)))\n",
    "\n",
    "confusion_matrix(y_test, svc.predict(X_test))"
   ]
  },
  {
   "cell_type": "code",
   "execution_count": 132,
   "metadata": {},
   "outputs": [
    {
     "name": "stdout",
     "output_type": "stream",
     "text": [
      "cross_val_score: 0.700781866686\n",
      "test_score: 0.763873775843\n",
      "CPU times: user 17min 54s, sys: 4min 37s, total: 22min 32s\n",
      "Wall time: 13min 31s\n"
     ]
    }
   ],
   "source": [
    "%%time\n",
    "from sklearn.neural_network import MLPClassifier\n",
    "cv_mlp = cross_val_score(MLPClassifier(), X_train, y_train, cv=3)\n",
    "mlp = MLPClassifier()\n",
    "mlp.fit(X_train, y_train)\n",
    "print('cross_val_score: '+str(cv_mlp.mean()))\n",
    "print('test_score: '+str(mlp.score(X_test, y_test)))\n",
    "\n",
    "cm_mlp = confusion_matrix(y_test, mlp.predict(X_test))"
   ]
  },
  {
   "cell_type": "code",
   "execution_count": 133,
   "metadata": {},
   "outputs": [
    {
     "data": {
      "text/plain": [
       "array([[36,  1,  0, ...,  0,  0,  0],\n",
       "       [ 0, 40,  7, ...,  0,  0,  0],\n",
       "       [ 0,  8, 23, ...,  5,  0,  0],\n",
       "       ..., \n",
       "       [ 0,  4,  3, ..., 34,  0,  0],\n",
       "       [ 0,  0,  0, ...,  0, 42,  0],\n",
       "       [ 0,  0,  0, ...,  0,  1, 37]])"
      ]
     },
     "execution_count": 133,
     "metadata": {},
     "output_type": "execute_result"
    }
   ],
   "source": [
    "cm_mlp"
   ]
  },
  {
   "cell_type": "markdown",
   "metadata": {},
   "source": [
    "#### For model selection, we tried two models LinearSVC and MLPClassifier with default parameters. And the LinearSVC model reached a cross_val_score and test score of 0.88. Meanwhile, the MLPClassifier got a cross_val_score of 0.70 and test score of 0.76. So we chose the LinearSVC model as the final model."
   ]
  },
  {
   "cell_type": "code",
   "execution_count": null,
   "metadata": {},
   "outputs": [],
   "source": []
  }
 ],
 "metadata": {
  "kernelspec": {
   "display_name": "Python 3",
   "language": "python",
   "name": "python3"
  },
  "language_info": {
   "codemirror_mode": {
    "name": "ipython",
    "version": 3
   },
   "file_extension": ".py",
   "mimetype": "text/x-python",
   "name": "python",
   "nbconvert_exporter": "python",
   "pygments_lexer": "ipython3",
   "version": "3.6.5"
  }
 },
 "nbformat": 4,
 "nbformat_minor": 2
}
